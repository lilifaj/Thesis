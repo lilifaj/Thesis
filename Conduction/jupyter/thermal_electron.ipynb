{
 "cells": [
  {
   "cell_type": "code",
   "execution_count": 15,
   "source": [
    "include(\"../src/Conduction.jl\");\r\n",
    "using Plots, LaTeXStrings, QuadGK;\r\n",
    "\r\n",
    "semiconductor = Conduction.Semiconductor(\r\n",
    "4.34e7, # decay constant of the assumed hydrogen-like localized state wave functions (cm^-1)\r\n",
    "0.1 * 1.6e-19, # Mode effect of the phonons (J)\r\n",
    "3e21, # intrinsic semiconductor's density (cm^-3)\r\n",
    "0, # Doping states' density (cm^-3)\r\n",
    "0.1 * 1.6e-19, # Energy to a vacant target site (J)\r\n",
    "1e13, # Base electron jump rate\r\n",
    "-27, # Fermi level (J)\r\n",
    "2.74, # Intrinsic semiconductor's gaussian width (J)\r\n",
    "2.7, # Doping states' gaussian width (J)\r\n",
    "2.7, # Amount of disorder\r\n",
    ");\r\n",
    "T = 300;\r\n",
    "F = -5.3e4;"
   ],
   "outputs": [
    {
     "output_type": "stream",
     "name": "stderr",
     "text": [
      "WARNING: replacing module Conduction.\n"
     ]
    }
   ],
   "metadata": {}
  },
  {
   "cell_type": "code",
   "execution_count": 17,
   "source": [
    "# D = 4.10e-6;\r\n",
    "# kp(semiconductor, T) = quadgk(\r\n",
    "#     r -> Conduction.k * T * Conduction.DOSp(semiconductor, r, T) * Conduction.C(r, T) * D,\r\n",
    "#     7.95e-21 / (Conduction.k * T),\r\n",
    "#     7.95e-20 / (Conduction.k * T)\r\n",
    "# )[1];\r\n",
    "\r\n",
    "# kp(semiconductor, T)\r\n",
    "Conduction.ke(semiconductor, T, F)"
   ],
   "outputs": [
    {
     "output_type": "execute_result",
     "data": {
      "text/plain": [
       "8.835922088906138e-38"
      ]
     },
     "metadata": {},
     "execution_count": 17
    }
   ],
   "metadata": {}
  }
 ],
 "metadata": {
  "orig_nbformat": 4,
  "language_info": {
   "name": "julia"
  }
 },
 "nbformat": 4,
 "nbformat_minor": 2
}