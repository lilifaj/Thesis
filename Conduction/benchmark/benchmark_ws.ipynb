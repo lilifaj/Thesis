{
 "cells": [
  {
   "cell_type": "code",
   "execution_count": 1,
   "metadata": {},
   "outputs": [
    {
     "name": "stdout",
     "output_type": "stream",
     "text": [
      "[2, 3]\n",
      "      From worker 3:\t Activating environment at `c:\\Users\\nodak\\Documents\\Nicolas Descouens\\Thesis\\Conduction\\Project.toml`\n",
      "      From worker 2:\t Activating environment at `c:\\Users\\nodak\\Documents\\Nicolas Descouens\\Thesis\\Conduction\\Project.toml`"
     ]
    },
    {
     "name": "stderr",
     "output_type": "stream",
     "text": [
      "\u001b[32m\u001b[1m Activating\u001b[22m\u001b[39m environment at `c:\\Users\\nodak\\Documents\\Nicolas Descouens\\Thesis\\Conduction\\Project.toml`\n"
     ]
    },
    {
     "name": "stdout",
     "output_type": "stream",
     "text": [
      "\n"
     ]
    }
   ],
   "source": [
    "using Distributed\n",
    "addprocs(2)\n",
    "println(workers())\n",
    "\n",
    "@everywhere begin\n",
    "    include(\"data.jl\")\n",
    "end"
   ]
  },
  {
   "cell_type": "code",
   "execution_count": 2,
   "metadata": {},
   "outputs": [
    {
     "data": {
      "text/plain": "BenchmarkTools.Trial: \n  memory estimate:  262.08 KiB\n  allocs estimate:  8083\n  --------------\n  minimum time:     162.951 s (0.00% GC)\n  median time:      166.197 s (0.00% GC)\n  mean time:        166.955 s (0.00% GC)\n  maximum time:     172.216 s (0.00% GC)\n  --------------\n  samples:          5\n  evals/sample:     1"
     },
     "execution_count": 2,
     "metadata": {},
     "output_type": "execute_result"
    }
   ],
   "source": [
    "@benchmark to_benchmark() evals=1 samples=5 seconds=1000"
   ]
  },
  {
   "cell_type": "code",
   "execution_count": 3,
   "metadata": {},
   "outputs": [
    {
     "name": "stdout",
     "output_type": "stream",
     "text": [
      "[2, 3, 4, 5]\n",
      "      From worker 5:\t Activating environment at `c:\\Users\\nodak\\Documents\\Nicolas Descouens\\Thesis\\Conduction\\Project.toml`\n",
      "      From worker 4:\t Activating environment at `c:\\Users\\nodak\\Documents\\Nicolas Descouens\\Thesis\\Conduction\\Project.toml`"
     ]
    },
    {
     "name": "stderr",
     "output_type": "stream",
     "text": [
      "\u001b[32m\u001b[1m Activating\u001b[22m\u001b[39m environment at `c:\\Users\\nodak\\Documents\\Nicolas Descouens\\Thesis\\Conduction\\Project.toml`\n"
     ]
    },
    {
     "name": "stdout",
     "output_type": "stream",
     "text": [
      "\n",
      "      From worker 2:\t Activating environment at `c:\\Users\\nodak\\Documents\\Nicolas Descouens\\Thesis\\Conduction\\Project.toml`\n",
      "      From worker 3:\t Activating environment at `c:\\Users\\nodak\\Documents\\Nicolas Descouens\\Thesis\\Conduction\\Project.toml`\n"
     ]
    },
    {
     "name": "stderr",
     "output_type": "stream",
     "text": [
      "WARNING: replacing module Conduction.\n"
     ]
    },
    {
     "name": "stdout",
     "output_type": "stream",
     "text": [
      "      From worker 2:\tWARNING: replacing module Conduction.\n",
      "      From worker 3:\tWARNING: replacing module Conduction.\n"
     ]
    }
   ],
   "source": [
    "addprocs(2)\r\n",
    "println(workers())\r\n",
    "\r\n",
    "@everywhere begin\r\n",
    "    include(\"../benchmark/data.jl\")\r\n",
    "end"
   ]
  },
  {
   "cell_type": "code",
   "execution_count": 4,
   "metadata": {},
   "outputs": [
    {
     "data": {
      "text/plain": "BenchmarkTools.Trial: \n  memory estimate:  221.75 KiB\n  allocs estimate:  6654\n  --------------\n  minimum time:     111.437 s (0.00% GC)\n  median time:      113.270 s (0.00% GC)\n  mean time:        112.969 s (0.00% GC)\n  maximum time:     113.651 s (0.00% GC)\n  --------------\n  samples:          5\n  evals/sample:     1"
     },
     "execution_count": 4,
     "metadata": {},
     "output_type": "execute_result"
    }
   ],
   "source": [
    "@benchmark to_benchmark() evals=1 samples=5 seconds=1000"
   ]
  },
  {
   "cell_type": "code",
   "execution_count": 5,
   "metadata": {},
   "outputs": [
    {
     "name": "stdout",
     "output_type": "stream",
     "text": [
      "[2, 3, 4, 5, 6, 7, 8, 9, 10, 11, 12, 13, 14, 15, 16, 17, 18, 19]\n"
     ]
    },
    {
     "name": "stderr",
     "output_type": "stream",
     "text": [
      "\u001b[32m\u001b[1m Activating\u001b[22m\u001b[39m environment at `c:\\Users\\nodak\\Documents\\Nicolas Descouens\\Thesis\\Conduction\\Project.toml`\n"
     ]
    },
    {
     "name": "stdout",
     "output_type": "stream",
     "text": [
      "      From worker 2:\t Activating environment at `c:\\Users\\nodak\\Documents\\Nicolas Descouens\\Thesis\\Conduction\\Project.toml`\n",
      "      From worker 2:\tWARNING: replacing module Conduction.\n",
      "      From worker 3:\t Activating environment at `c:\\Users\\nodak\\Documents\\Nicolas Descouens\\Thesis\\Conduction\\Project.toml`\n",
      "      From worker 3:\tWARNING: replacing module Conduction.\n"
     ]
    },
    {
     "name": "stderr",
     "output_type": "stream",
     "text": [
      "WARNING: replacing module Conduction.\n"
     ]
    },
    {
     "name": "stdout",
     "output_type": "stream",
     "text": [
      "      From worker 8:\t Activating environment at `c:\\Users\\nodak\\Documents\\Nicolas Descouens\\Thesis\\Conduction\\Project.toml`\n",
      "      From worker 17:\t Activating environment at `c:\\Users\\nodak\\Documents\\Nicolas Descouens\\Thesis\\Conduction\\Project.toml`\n",
      "      From worker 13:\t Activating environment at `c:\\Users\\nodak\\Documents\\Nicolas Descouens\\Thesis\\Conduction\\Project.toml`\n",
      "      From worker 10:\t Activating environment at `c:\\Users\\nodak\\Documents\\Nicolas Descouens\\Thesis\\Conduction\\Project.toml`\n",
      "      From worker 6:\t Activating environment at `c:\\Users\\nodak\\Documents\\Nicolas Descouens\\Thesis\\Conduction\\Project.toml`\n",
      "      From worker 15:\t Activating environment at `c:\\Users\\nodak\\Documents\\Nicolas Descouens\\Thesis\\Conduction\\Project.toml`\n",
      "      From worker 12:\t Activating environment at `c:\\Users\\nodak\\Documents\\Nicolas Descouens\\Thesis\\Conduction\\Project.toml`\n",
      "      From worker 11:\t Activating environment at `c:\\Users\\nodak\\Documents\\Nicolas Descouens\\Thesis\\Conduction\\Project.toml`\n",
      "      From worker 9:\t Activating environment at `c:\\Users\\nodak\\Documents\\Nicolas Descouens\\Thesis\\Conduction\\Project.toml`\n",
      "      From worker 18:\t Activating environment at `c:\\Users\\nodak\\Documents\\Nicolas Descouens\\Thesis\\Conduction\\Project.toml`\n",
      "      From worker 16:\t Activating environment at `c:\\Users\\nodak\\Documents\\Nicolas Descouens\\Thesis\\Conduction\\Project.toml`\n",
      "      From worker 7:\t Activating environment at `c:\\Users\\nodak\\Documents\\Nicolas Descouens\\Thesis\\Conduction\\Project.toml`\n",
      "      From worker 14:\t Activating environment at `c:\\Users\\nodak\\Documents\\Nicolas Descouens\\Thesis\\Conduction\\Project.toml`\n",
      "      From worker 19:\t Activating environment at `c:\\Users\\nodak\\Documents\\Nicolas Descouens\\Thesis\\Conduction\\Project.toml`\n",
      "      From worker 5:\t Activating environment at `c:\\Users\\nodak\\Documents\\Nicolas Descouens\\Thesis\\Conduction\\Project.toml`\n",
      "      From worker 4:\t Activating environment at `c:\\Users\\nodak\\Documents\\Nicolas Descouens\\Thesis\\Conduction\\Project.toml`\n",
      "      From worker 5:\tWARNING: replacing module Conduction.\n",
      "      From worker 4:\tWARNING: replacing module Conduction.\n"
     ]
    }
   ],
   "source": [
    "addprocs(14)\r\n",
    "println(workers())\r\n",
    "\r\n",
    "@everywhere begin\r\n",
    "    include(\"../benchmark/data.jl\")\r\n",
    "end"
   ]
  },
  {
   "cell_type": "code",
   "execution_count": 6,
   "metadata": {},
   "outputs": [
    {
     "data": {
      "text/plain": "BenchmarkTools.Trial: \n  memory estimate:  238.45 KiB\n  allocs estimate:  6518\n  --------------\n  minimum time:     106.996 s (0.00% GC)\n  median time:      109.551 s (0.00% GC)\n  mean time:        110.443 s (0.00% GC)\n  maximum time:     116.856 s (0.00% GC)\n  --------------\n  samples:          5\n  evals/sample:     1"
     },
     "execution_count": 6,
     "metadata": {},
     "output_type": "execute_result"
    }
   ],
   "source": [
    "@benchmark to_benchmark() evals=1 samples=5 seconds=1000"
   ]
  }
 ],
 "metadata": {
  "kernelspec": {
   "display_name": "Julia 1.5.3",
   "language": "julia",
   "name": "julia-1.5"
  },
  "language_info": {
   "file_extension": ".jl",
   "mimetype": "application/julia",
   "name": "julia",
   "version": "1.5.4"
  },
  "orig_nbformat": 2
 },
 "nbformat": 4,
 "nbformat_minor": 2
}