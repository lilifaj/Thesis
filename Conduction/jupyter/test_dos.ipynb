{
 "cells": [
  {
   "cell_type": "code",
   "execution_count": 43,
   "source": [
    "include(\"../src/Conduction.jl\");\n",
    "using Plots, LaTeXStrings, QuadGK, Roots;\n",
    "\n",
    "semiconductor = Conduction.Semiconductor(\n",
    "4.34e7, # decay constant of the assumed hydrogen-like localized state wave functions (cm^-1)\n",
    "0.1 * 1.6e-19, # Mode effect of the phonons (J)\n",
    "3e21, # intrinsic semiconductor's density (cm^-3)\n",
    "3e21 * 0.001, # Doping states' density (cm^-3)\n",
    "0.29 * 1.6e-19, # Energy to a vacant target site (J)\n",
    "1e13, # Base electron jump rate\n",
    "-0.62, # Fermi level (J)\n",
    "0.1, # Intrinsic semiconductor's gaussian width (J)\n",
    "0.1, # Doping states' gaussian width (J)\n",
    ");\n",
    "\n",
    "F = -5.3e4; # Field (V.cm^-1)\n",
    "T = 300;"
   ],
   "outputs": [
    {
     "output_type": "stream",
     "name": "stderr",
     "text": [
      "WARNING: replacing module Conduction.\n"
     ]
    }
   ],
   "metadata": {}
  },
  {
   "cell_type": "code",
   "execution_count": 44,
   "source": [
    "ratio = [0, 0.06, 0.09, 0.15];\n",
    "\n",
    "p() = quadgk(\n",
    "    r -> Conduction.DOS(semiconductor, r, T) * Conduction.F(semiconductor, r, T) * Conduction.k * T,\n",
    "    -Inf,\n",
    "    Inf\n",
    ")[1];\n",
    "\n",
    "function quantityCarrier(x)\n",
    "    semiconductor.Ni = x;\n",
    "    semiconductor.Nd = 0.001 * x;\n",
    "    return p()\n",
    "end\n",
    "\n",
    "function find_multiple_zeros(x)\n",
    "    density = (r -> find_zero(z -> quantityCarrier(z) - r, 1e20)).(x)\n",
    "    return density\n",
    "end\n",
    "range = vcat([[i for i in 1:9] .* 10^i for i in 16:1:17]...);\n",
    "densities = find_multiple_zeros(range);"
   ],
   "outputs": [],
   "metadata": {}
  },
  {
   "cell_type": "code",
   "execution_count": null,
   "source": [
    "range_u = -15:1:15;\n",
    "res_d = [];\n",
    "res_u = [];\n",
    "\n",
    "for i in densities\n",
    "    res_d_partial= [];\n",
    "    res_u_partial= [];\n",
    "    semiconductor.Ni = x;\n",
    "    semiconductor.Nd = 0.001 * x;\n",
    "    for u in range_u:\n",
    "        append!(res_d_partial, Conduction.D(semiconductor, u, T, F));\n",
    "        append!(res_u_partial, Conduction.electronMobility(semiconductor, u, T, F));\n",
    "    end\n",
    "\n",
    "    append!(res_d, res_d_partial);\n",
    "    append!(res_u, res_u_partial);\n",
    "end"
   ],
   "outputs": [],
   "metadata": {}
  }
 ],
 "metadata": {
  "orig_nbformat": 4,
  "language_info": {
   "name": "julia"
  }
 },
 "nbformat": 4,
 "nbformat_minor": 2
}