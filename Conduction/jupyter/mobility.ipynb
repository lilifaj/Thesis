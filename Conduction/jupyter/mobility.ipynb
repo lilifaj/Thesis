{
 "cells": [
  {
   "cell_type": "code",
   "execution_count": null,
   "metadata": {},
   "outputs": [],
   "source": [
    "using Distributed\n",
    "\n",
    "addprocs(4)\n",
    "\n",
    "println(workers())"
   ]
  },
  {
   "cell_type": "markdown",
   "metadata": {},
   "source": [
    "**Be careful not launching this cell multiple times as it could create an unwanted number of process on your computer**\n",
    "\n",
    "If you want to reload the cell, please reload your kernel beforehand.\n",
    "\n",
    "You can modify the number of process depending on your computer and its number of core."
   ]
  },
  {
   "cell_type": "code",
   "execution_count": null,
   "metadata": {},
   "outputs": [],
   "source": [
    "@everywhere begin\n",
    "    include(\"../src/Conduction.jl\");\n",
    "    using Plots, VegaLite, LaTeXStrings, QuadGK\n",
    "end\n"
   ]
  },
  {
   "cell_type": "code",
   "execution_count": null,
   "metadata": {},
   "outputs": [],
   "source": [
    "semiconductor = Conduction.Semiconductor(\n",
    "    1.38 * 10^-23,\n",
    "    1.6*10^-19,\n",
    "    10^7,\n",
    "    0.1 * 1.6*10^-19,\n",
    "    2.1 * 10^18,\n",
    "    2.1 * 10^18,\n",
    "    0.1 * 1.6 * 10^-19,\n",
    "    -10^3,\n",
    "    10^13,\n",
    "    -10.0,\n",
    "    2.7,\n",
    "    2.7\n",
    ");\n",
    "\n",
    "range = -10:0.2:10\n",
    "res_VRH = pmap(x -> Conduction.electronMobility(semiconductor, Conduction.RnnVRH, x, 300),\n",
    "    range);\n",
    "res_PERCO = pmap(x -> Conduction.electronMobility(semiconductor, Conduction.RnnPercoField,\n",
    "    x, 300),\n",
    "    range);"
   ]
  },
  {
   "cell_type": "code",
   "execution_count": null,
   "metadata": {},
   "outputs": [],
   "source": [
    "plot(range, [res_VRH, res_PERCO], xlabel=L\"U^\\prime\", ylabel=L\"\\mu[cm^2/(V.s)]\",\n",
    "    label=[\"VRH\"  \"Perco with field\"])"
   ]
  },
  {
   "cell_type": "code",
   "execution_count": null,
   "metadata": {},
   "outputs": [],
   "source": [
    "pondered_VRH = res_VRH .*\n",
    "    map(x -> Conduction.DOS(semiconductor, x, 300) * Conduction.F(semiconductor, x, 300) *\n",
    "        semiconductor.k * 300, range);\n",
    "\n",
    "    pondered_PERCO = res_PERCO .*\n",
    "    map(x -> Conduction.DOS(semiconductor, x, 300) * Conduction.F(semiconductor, x, 300) *\n",
    "        semiconductor.k * 300, range);\n",
    "\n",
    "plot(range, [pondered_VRH, pondered_PERCO], xlabel=L\"U^\\prime\", ylabel=L\"\\mu / cm^3\",\n",
    "    label=[\"VRH\" \"Perco with field\"])"
   ]
  }
 ],
 "metadata": {
  "kernelspec": {
   "display_name": "Julia 1.5.3",
   "language": "julia",
   "name": "julia-1.5"
  },
  "language_info": {
   "file_extension": ".jl",
   "mimetype": "application/julia",
   "name": "julia",
   "version": "1.5.2"
  }
 },
 "nbformat": 4,
 "nbformat_minor": 4
}