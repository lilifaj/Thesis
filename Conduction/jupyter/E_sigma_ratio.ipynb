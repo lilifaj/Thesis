{
 "cells": [
  {
   "cell_type": "code",
   "execution_count": 1,
   "metadata": {},
   "outputs": [
    {
     "name": "stdout",
     "output_type": "stream",
     "text": [
      "      From worker 5:\t Activating environment at `c:\\Users\\nodak\\Documents\\Nicolas Descouens\\Thesis\\Conduction\\Project.toml`\n",
      "      From worker 2:\t Activating environment at `c:\\Users\\nodak\\Documents\\Nicolas Descouens\\Thesis\\Conduction\\Project.toml`"
     ]
    },
    {
     "name": "stderr",
     "output_type": "stream",
     "text": [
      "\u001b[32m\u001b[1m Activating\u001b[22m\u001b[39m environment at `c:\\Users\\nodak\\Documents\\Nicolas Descouens\\Thesis\\Conduction\\Project.toml`\n"
     ]
    },
    {
     "name": "stdout",
     "output_type": "stream",
     "text": [
      "\n",
      "      From worker 4:\t Activating environment at `c:\\Users\\nodak\\Documents\\Nicolas Descouens\\Thesis\\Conduction\\Project.toml`\n",
      "      From worker 3:\t Activating environment at `c:\\Users\\nodak\\Documents\\Nicolas Descouens\\Thesis\\Conduction\\Project.toml`\n",
      "[2, 3, 4, 5]\n"
     ]
    }
   ],
   "source": [
    "using Pkg\r\n",
    "Pkg.activate(String(@__DIR__) * \"/..\")\r\n",
    "Pkg.instantiate()"
   ]
  },
  {
   "cell_type": "code",
   "execution_count": 2,
   "metadata": {},
   "outputs": [],
   "source": [
    "@everywhere begin\n",
    "    include(\"../src/Conduction.jl\");\n",
    "    using Plots, VegaLite, LaTeXStrings, QuadGK;\n",
    "end"
   ]
  },
  {
   "cell_type": "code",
   "execution_count": 3,
   "metadata": {},
   "outputs": [],
   "source": [
    "@everywhere begin\r\n",
    "    semiconductor = Conduction.Semiconductor(\r\n",
    "    1.38 * 10^-23, # Boltzman constant (J.K^-1)\r\n",
    "    1.6*10^-19, # Electron's charge (C)\r\n",
    "    10^7, # decay constant of the assumed hydrogen-like localized state wave functions (cm^-1)\r\n",
    "    0.1 * 1.6*10^-19, # Mode effect of the phonons (J)\r\n",
    "    2.1 * 10^18, # intrinsic semiconductor's density (cm^-3)\r\n",
    "    0, # Doping states' density (cm^-3)\r\n",
    "    0.1 * 1.6 * 10^-19, # Energy to a vacant target site (J)\r\n",
    "    -2*10^3, # Field (V.cm^-1)\r\n",
    "    10^13, # Base electron jump rate\r\n",
    "    -10.0, # Fermi level (J)\r\n",
    "    2.3, # Intrinsic semiconductor's gaussian width (J)\r\n",
    "    2.7, # Doping states' gaussian width (J)\r\n",
    "    2.7, # Amount of disorder\r\n",
    "    1 # Phonon lower frequency\r\n",
    "    );\r\n",
    "\r\n",
    "    T = 300;\r\n",
    "end"
   ]
  },
  {
   "cell_type": "code",
   "execution_count": 4,
   "metadata": {},
   "outputs": [
    {
     "data": {
      "text/plain": "-4.3478260869565215"
     },
     "execution_count": 4,
     "metadata": {},
     "output_type": "execute_result"
    }
   ],
   "source": [
    "semiconductor.Uf(T) / semiconductor.SigmaI(T)"
   ]
  },
  {
   "cell_type": "markdown",
   "metadata": {},
   "source": [
    "Compared to papers, the ratio seems too high"
   ]
  },
  {
   "cell_type": "code",
   "execution_count": 5,
   "metadata": {},
   "outputs": [
    {
     "data": {
      "text/plain": "3.2951394948128266e6"
     },
     "execution_count": 5,
     "metadata": {},
     "output_type": "execute_result"
    }
   ],
   "source": [
    "Conduction.overallEin(semiconductor, Conduction.RnnVRH, T, 15) / semiconductor.k * T / semiconductor.q"
   ]
  },
  {
   "cell_type": "code",
   "execution_count": 6,
   "metadata": {},
   "outputs": [
    {
     "name": "stdout",
     "output_type": "stream",
     "text": [
      "-0.25875\n",
      "0.059512499999999996\n"
     ]
    }
   ],
   "source": [
    "println(semiconductor.Uf(T) / (1.6 * 10^-19))\n",
    "println(semiconductor.SigmaI(T) / (1.6 * 10^-19))"
   ]
  },
  {
   "cell_type": "markdown",
   "metadata": {},
   "source": [
    "Fermi level is too high."
   ]
  },
  {
   "cell_type": "markdown",
   "metadata": {},
   "source": [
    " We'll find $E_F$ in such way that $\\dfrac{E_F}{\\sigma} = -6.7$"
   ]
  },
  {
   "cell_type": "code",
   "execution_count": 7,
   "metadata": {},
   "outputs": [
    {
     "data": {
      "text/plain": "15.41"
     },
     "execution_count": 7,
     "metadata": {},
     "output_type": "execute_result"
    }
   ],
   "source": [
    "6.7 * semiconductor.SigmaI(T) / semiconductor.k / T"
   ]
  },
  {
   "cell_type": "code",
   "execution_count": 8,
   "metadata": {},
   "outputs": [
    {
     "data": {
      "text/plain": "3.3109355258407835e6"
     },
     "execution_count": 8,
     "metadata": {},
     "output_type": "execute_result"
    }
   ],
   "source": [
    "semiconductor.Uf(T) = -15.41 * semiconductor.k * T;\n",
    "Conduction.overallEin(semiconductor, Conduction.RnnVRH, T, 15) * semiconductor.k * T / semiconductor.q"
   ]
  },
  {
   "cell_type": "markdown",
   "metadata": {},
   "source": [
    "We'll now take $E_F$ in such way that $\\dfrac{E_F}{\\sigma} = 6.2$ and $\\sigma = 3 k_BT$"
   ]
  },
  {
   "cell_type": "code",
   "execution_count": 9,
   "metadata": {},
   "outputs": [
    {
     "data": {
      "text/plain": "18.6"
     },
     "execution_count": 9,
     "metadata": {},
     "output_type": "execute_result"
    }
   ],
   "source": [
    "semiconductor.SigmaI(T) = 3 * semiconductor.k * T\n",
    "6.2 * semiconductor.SigmaI(T) / semiconductor.k / T"
   ]
  },
  {
   "cell_type": "code",
   "execution_count": 10,
   "metadata": {},
   "outputs": [
    {
     "data": {
      "text/plain": "3.495287003353969e6"
     },
     "execution_count": 10,
     "metadata": {},
     "output_type": "execute_result"
    }
   ],
   "source": [
    "semiconductor.Uf(T) = -18.6 * semiconductor.k * T;\r\n",
    "Conduction.overallEin(semiconductor, Conduction.RnnVRH, T, 15) / semiconductor.k * T / semiconductor.q"
   ]
  },
  {
   "cell_type": "markdown",
   "metadata": {},
   "source": [
    "We'll take $E_F = -15.41$ and keep the same $\\sigma$ value."
   ]
  },
  {
   "cell_type": "code",
   "execution_count": 11,
   "metadata": {},
   "outputs": [
    {
     "data": {
      "text/plain": "3.490489152587037e6"
     },
     "execution_count": 11,
     "metadata": {},
     "output_type": "execute_result"
    }
   ],
   "source": [
    "semiconductor.Uf(T) = -15.41 * semiconductor.k * T;\r\n",
    "Conduction.overallEin(semiconductor, Conduction.RnnVRH, T, 15) / semiconductor.k * T / semiconductor.q"
   ]
  },
  {
   "cell_type": "markdown",
   "metadata": {},
   "source": [
    "$E_F$ does not seem to have a great influence on the einstein ratio."
   ]
  }
 ],
 "metadata": {
  "kernelspec": {
   "display_name": "Julia 1.5.4",
   "language": "julia",
   "name": "julia-1.5"
  },
  "language_info": {
   "file_extension": ".jl",
   "mimetype": "application/julia",
   "name": "julia",
   "version": "1.5.4"
  }
 },
 "nbformat": 4,
 "nbformat_minor": 5
}