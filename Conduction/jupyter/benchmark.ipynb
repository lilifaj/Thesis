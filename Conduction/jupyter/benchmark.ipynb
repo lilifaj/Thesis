{
 "cells": [
  {
   "cell_type": "code",
   "execution_count": 2,
   "metadata": {},
   "outputs": [
    {
     "name": "stdout",
     "output_type": "stream",
     "text": [
      "[2, 3, 4, 5, 6, 7, 8, 9]\n"
     ]
    },
    {
     "ename": "LoadError",
     "evalue": "\u001b[91mOn worker 2:\u001b[39m\n\u001b[91m\u001b[91mArgumentError: Package VegaLite [112f6efa-9a02-5b7d-90c0-432ed331239a] is required but does not seem to be installed:\u001b[39m\u001b[39m\n\u001b[91m\u001b[91m - Run `Pkg.instantiate()` to install all recorded dependencies.\u001b[39m\u001b[39m\n\n\u001b[91m_require at .\\loading.jl:999\u001b[39m\n\u001b[91mrequire at .\\loading.jl:928\u001b[39m\n\u001b[91m#1 at C:\\buildbot\\worker\\package_win64\\build\\usr\\share\\julia\\stdlib\\v1.5\\Distributed\\src\\Distributed.jl:78\u001b[39m\n\u001b[91m#103 at C:\\buildbot\\worker\\package_win64\\build\\usr\\share\\julia\\stdlib\\v1.5\\Distributed\\src\\process_messages.jl:290\u001b[39m\n\u001b[91mrun_work_thunk at C:\\buildbot\\worker\\package_win64\\build\\usr\\share\\julia\\stdlib\\v1.5\\Distributed\\src\\process_messages.jl:79\u001b[39m\n\u001b[91mrun_work_thunk at C:\\buildbot\\worker\\package_win64\\build\\usr\\share\\julia\\stdlib\\v1.5\\Distributed\\src\\process_messages.jl:88\u001b[39m\n\u001b[91m#96 at .\\task.jl:356\u001b[39m\n\n\u001b[91m...and 7 more exception(s).\u001b[39m\n",
     "output_type": "error",
     "traceback": [
      "\u001b[91mOn worker 2:\u001b[39m\n\u001b[91m\u001b[91mArgumentError: Package VegaLite [112f6efa-9a02-5b7d-90c0-432ed331239a] is required but does not seem to be installed:\u001b[39m\u001b[39m\n\u001b[91m\u001b[91m - Run `Pkg.instantiate()` to install all recorded dependencies.\u001b[39m\u001b[39m\n\n\u001b[91m_require at .\\loading.jl:999\u001b[39m\n\u001b[91mrequire at .\\loading.jl:928\u001b[39m\n\u001b[91m#1 at C:\\buildbot\\worker\\package_win64\\build\\usr\\share\\julia\\stdlib\\v1.5\\Distributed\\src\\Distributed.jl:78\u001b[39m\n\u001b[91m#103 at C:\\buildbot\\worker\\package_win64\\build\\usr\\share\\julia\\stdlib\\v1.5\\Distributed\\src\\process_messages.jl:290\u001b[39m\n\u001b[91mrun_work_thunk at C:\\buildbot\\worker\\package_win64\\build\\usr\\share\\julia\\stdlib\\v1.5\\Distributed\\src\\process_messages.jl:79\u001b[39m\n\u001b[91mrun_work_thunk at C:\\buildbot\\worker\\package_win64\\build\\usr\\share\\julia\\stdlib\\v1.5\\Distributed\\src\\process_messages.jl:88\u001b[39m\n\u001b[91m#96 at .\\task.jl:356\u001b[39m\n\n\u001b[91m...and 7 more exception(s).\u001b[39m\n",
      "",
      "Stacktrace:",
      " [1] sync_end(::Channel{Any}) at .\\task.jl:314",
      " [2] macro expansion at .\\task.jl:333 [inlined]",
      " [3] _require_callback(::Base.PkgId) at C:\\buildbot\\worker\\package_win64\\build\\usr\\share\\julia\\stdlib\\v1.5\\Distributed\\src\\Distributed.jl:75",
      " [4] #invokelatest#1 at .\\essentials.jl:710 [inlined]",
      " [5] invokelatest at .\\essentials.jl:709 [inlined]",
      " [6] require(::Base.PkgId) at .\\loading.jl:931",
      " [7] require(::Module, ::Symbol) at .\\loading.jl:923",
      " [8] top-level scope at C:\\buildbot\\worker\\package_win64\\build\\usr\\share\\julia\\stdlib\\v1.5\\Distributed\\src\\macros.jl:200",
      " [9] include_string(::Function, ::Module, ::String, ::String) at .\\loading.jl:1091"
     ]
    }
   ],
   "source": [
    "using Distributed\r\n",
    "addprocs(4)\r\n",
    "println(workers())\r\n",
    "\r\n",
    "@everywhere begin\r\n",
    "    using Pkg\r\n",
    "    Pkg.activate(String(@__DIR__) * \"/..\")\r\n",
    "    Pkg.instantiate()\r\n",
    "end\r\n",
    "\r\n",
    "@everywhere begin\r\n",
    "    include(\"../src/Conduction.jl\");\r\n",
    "    using Plots, VegaLite, LaTeXStrings, QuadGK;\r\n",
    "end\r\n",
    "\r\n",
    "@everywhere begin\r\n",
    "    range = -10.:0.5:10.;\r\n",
    "\r\n",
    "    semiconductor = Conduction.Semiconductor(\r\n",
    "    1.38 * 10^-23, # Boltzman constant (J.K^-1)\r\n",
    "    1.6*10^-19, # Electron's charge (C)\r\n",
    "    10^7, # decay constant of the assumed hydrogen-like localized state wave functions (cm^-1)\r\n",
    "    0.1 * 1.6*10^-19, # Mode effect of the phonons (J)\r\n",
    "    2.1 * 10^18, # intrinsic semiconductor's density (cm^-3)\r\n",
    "    2.1 * 10^18, # Doping states' density (cm^-3)\r\n",
    "    0.1 * 1.6 * 10^-19, # Energy to a vacant target site (J)\r\n",
    "    -2*10^5, # Field (V.cm^-1)\r\n",
    "    10^13, # Base electron jump rate\r\n",
    "    -10.0, # Fermi level (J)\r\n",
    "    2.7, # Intrinsic semiconductor's gaussian width (J)\r\n",
    "    2.7 # Doping states' gaussian width (J)\r\n",
    "    );\r\n",
    "\r\n",
    "    function einsteinRelation(semiconductor, U, T)\r\n",
    "        r = Conduction.RnnVRH(semiconductor, U, T)\r\n",
    "        x = Conduction.xf(semiconductor, r, U, T)\r\n",
    "        t = Conduction.t(semiconductor, r, U, T)\r\n",
    "        return Conduction.D(semiconductor, r, x, t) / Conduction.electronMobility(\r\n",
    "            semiconductor, r, x)\r\n",
    "    end;\r\n",
    "\r\n",
    "    function einsteinRelation_no_t(semiconductor, U, T)\r\n",
    "        r = Conduction.RnnVRH(semiconductor, U, T)\r\n",
    "        x = Conduction.xf(semiconductor, r, U, T)\r\n",
    "        return Conduction.D_no_t(semiconductor, r) / Conduction.electronMobility(\r\n",
    "            semiconductor, r, x)\r\n",
    "    end;\r\n",
    "\r\n",
    "    function criteria_D(semiconductor, U, T)\r\n",
    "        r = Conduction.RnnVRH(semiconductor, U, T)\r\n",
    "        return semiconductor.nu * exp(-r) * Conduction.t(semiconductor, r, U, T)\r\n",
    "    end;\r\n",
    "\r\n",
    "    function to_benchmark()\r\n",
    "        pmap(x -> einsteinRelation(semiconductor, x, 300.), range);\r\n",
    "    end\r\n",
    "end"
   ]
  },
  {
   "cell_type": "code",
   "execution_count": null,
   "metadata": {},
   "outputs": [],
   "source": [
    "@benchmark to_benchmark()"
   ]
  },
  {
   "cell_type": "code",
   "execution_count": null,
   "metadata": {},
   "outputs": [],
   "source": [
    "addprocs(4)\n",
    "println(workers())\n",
    "\n",
    "@everywhere begin\n",
    "    using Pkg\n",
    "    Pkg.activate(String(@__DIR__) * \"/..\")\n",
    "    Pkg.instantiate()\n",
    "    include(\"../src/Conduction.jl\");\n",
    "    using Plots, VegaLite, LaTeXStrings, QuadGK;\n",
    "\n",
    "    range = -10.:0.5:10.;\n",
    "\n",
    "    semiconductor = Conduction.Semiconductor(\n",
    "    1.38 * 10^-23, # Boltzman constant (J.K^-1)\n",
    "    1.6*10^-19, # Electron's charge (C)\n",
    "    10^7, # decay constant of the assumed hydrogen-like localized state wave functions (cm^-1)\n",
    "    0.1 * 1.6*10^-19, # Mode effect of the phonons (J)\n",
    "    2.1 * 10^18, # intrinsic semiconductor's density (cm^-3)\n",
    "    2.1 * 10^18, # Doping states' density (cm^-3)\n",
    "    0.1 * 1.6 * 10^-19, # Energy to a vacant target site (J)\n",
    "    -2*10^5, # Field (V.cm^-1)\n",
    "    10^13, # Base electron jump rate\n",
    "    -10.0, # Fermi level (J)\n",
    "    2.7, # Intrinsic semiconductor's gaussian width (J)\n",
    "    2.7 # Doping states' gaussian width (J)\n",
    "    );\n",
    "\n",
    "    function einsteinRelation(semiconductor, U, T)\n",
    "        r = Conduction.RnnVRH(semiconductor, U, T)\n",
    "        x = Conduction.xf(semiconductor, r, U, T)\n",
    "        t = Conduction.t(semiconductor, r, U, T)\n",
    "        return Conduction.D(semiconductor, r, x, t) / Conduction.electronMobility(\n",
    "            semiconductor, r, x)\n",
    "    end;\n",
    "\n",
    "    function einsteinRelation_no_t(semiconductor, U, T)\n",
    "        r = Conduction.RnnVRH(semiconductor, U, T)\n",
    "        x = Conduction.xf(semiconductor, r, U, T)\n",
    "        return Conduction.D_no_t(semiconductor, r) / Conduction.electronMobility(\n",
    "            semiconductor, r, x)\n",
    "    end;\n",
    "\n",
    "    function criteria_D(semiconductor, U, T)\n",
    "        r = Conduction.RnnVRH(semiconductor, U, T)\n",
    "        return semiconductor.nu * exp(-r) * Conduction.t(semiconductor, r, U, T)\n",
    "    end;\n",
    "\n",
    "    function to_benchmark()\n",
    "        pmap(x -> einsteinRelation(semiconductor, x, 300.), range);\n",
    "    end\n",
    "end"
   ]
  },
  {
   "cell_type": "code",
   "execution_count": null,
   "metadata": {},
   "outputs": [],
   "source": [
    "@benchmark to_benchmark()"
   ]
  }
 ],
 "metadata": {
  "kernelspec": {
   "display_name": "Julia 1.5.4",
   "language": "julia",
   "name": "julia-1.5"
  },
  "language_info": {
   "file_extension": ".jl",
   "mimetype": "application/julia",
   "name": "julia",
   "version": "1.5.4"
  },
  "orig_nbformat": 2
 },
 "nbformat": 4,
 "nbformat_minor": 2
}