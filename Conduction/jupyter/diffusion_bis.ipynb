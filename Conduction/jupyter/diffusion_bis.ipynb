{
 "cells": [
  {
   "cell_type": "code",
   "execution_count": 11,
   "metadata": {},
   "outputs": [
    {
     "name": "stderr",
     "output_type": "stream",
     "text": [
      "WARNING: replacing module Conduction.\n"
     ]
    }
   ],
   "source": [
    "include(\"../src/Conduction.jl\");\n",
    "using Plots, LaTeXStrings;"
   ]
  },
  {
   "cell_type": "code",
   "execution_count": 13,
   "metadata": {},
   "outputs": [],
   "source": [
    "semiconductor = Conduction.Semiconductor(\n",
    "1.38 * 10^-23, # Boltzman constant (J.K^-1)\n",
    "1.6*10^-19, # Electron's charge (C)\n",
    "10^7, # decay constant of the assumed hydrogen-like localized state wave functions (cm^-1)\n",
    "0.1 * 1.6*10^-19, # Mode effect of the phonons (J)\n",
    "2.1 * 10^18, # intrinsic semiconductor's density (cm^-3)\n",
    "0, # Doping states' density (cm^-3)\n",
    "0.1 * 1.6 * 10^-19, # Energy to a vacant target site (J)\n",
    "-2*10^3, # Field (V.cm^-1)\n",
    "10^13, # Base electron jump rate\n",
    "-10.0, # Fermi level (J)\n",
    "2.7, # Intrinsic semiconductor's gaussian width (J)\n",
    "2.7, # Doping states' gaussian width (J)\n",
    "2.7, # Amount of disorder\n",
    "1\n",
    ");\n",
    "\n",
    "T = 300;"
   ]
  },
  {
   "cell_type": "markdown",
   "metadata": {},
   "source": [
    "This is the original diffusion equation that we found."
   ]
  },
  {
   "cell_type": "code",
   "execution_count": 15,
   "metadata": {},
   "outputs": [
    {
     "data": {
      "text/plain": "1.969531171797287e-12"
     },
     "execution_count": 14,
     "metadata": {},
     "output_type": "execute_result"
    },
    {
     "data": {
      "text/plain": "1.969531171797287e-12"
     },
     "execution_count": 15,
     "metadata": {},
     "output_type": "execute_result"
    }
   ],
   "source": [
    "Conduction.overallEinD(semiconductor, Conduction.D, Conduction.RnnVRH, T, 15)"
   ]
  },
  {
   "cell_type": "markdown",
   "metadata": {},
   "source": [
    "`D_bis` is the function representing the equation: $D=\\frac{1}{2} \\bar{v}\\left(\\left(\\overline{r_{f}}+\\bar{v} t\\left(E, \\hbar \\omega_{\\alpha}\\right)\\right)^{2}-\\overline{r_{f}}^{2}\\right)$"
   ]
  },
  {
   "cell_type": "code",
   "execution_count": 4,
   "metadata": {},
   "outputs": [
    {
     "data": {
      "text/plain": "445506.89875499165"
     },
     "execution_count": 4,
     "metadata": {},
     "output_type": "execute_result"
    }
   ],
   "source": [
    "Conduction.overallEinD(semiconductor, Conduction.D_bis, Conduction.RnnVRH, T, 15)"
   ]
  },
  {
   "cell_type": "markdown",
   "metadata": {},
   "source": [
    "`D_ter` is the function that's in Xavier's thesis: $D\\left(\\varepsilon_{i}\\right)=\\frac{1}{6}\\left(2 \\overline{X_{f}} R_{i, n n} v_{0} t\\left(\\varepsilon_{i}\\right) \\exp \\left(-r_{i, n n}\\right)+\\left(R_{i, n n}\\right)^{2}\\right) v_{0} \\exp \\left(-r_{i, n n}\\right)$"
   ]
  },
  {
   "cell_type": "code",
   "execution_count": 5,
   "metadata": {},
   "outputs": [
    {
     "data": {
      "text/plain": "2.5766105467694524e-7"
     },
     "execution_count": 5,
     "metadata": {},
     "output_type": "execute_result"
    }
   ],
   "source": [
    "Conduction.overallEinD(semiconductor, Conduction.D_ter, Conduction.RnnVRH, T, 15)"
   ]
  },
  {
   "cell_type": "code",
   "execution_count": 17,
   "metadata": {},
   "outputs": [
    {
     "data": {
      "text/plain": "8.460020191454333e-9"
     },
     "execution_count": 17,
     "metadata": {},
     "output_type": "execute_result"
    }
   ],
   "source": [
    "ein(semiconductor, Rnn, xf, t) = Conduction.ein(semiconductor, Conduction.D, Rnn, xf, t)\n",
    "\n",
    "Conduction.overallEinD(semiconductor, ein, Conduction.RnnVRH, T, 15) * semiconductor.k * T / semiconductor.q"
   ]
  },
  {
   "cell_type": "code",
   "execution_count": 7,
   "metadata": {},
   "outputs": [
    {
     "data": {
      "text/plain": "4.0657818865842804e10"
     },
     "execution_count": 7,
     "metadata": {},
     "output_type": "execute_result"
    }
   ],
   "source": [
    "ein(semiconductor, Rnn, xf, t) = Conduction.ein(semiconductor, Conduction.D_bis, Rnn, xf, t)\n",
    "\n",
    "Conduction.overallEinD(semiconductor, ein, Conduction.RnnVRH, T, 15) * semiconductor.k * T / semiconductor.q"
   ]
  },
  {
   "cell_type": "code",
   "execution_count": 18,
   "metadata": {},
   "outputs": [
    {
     "data": {
      "text/plain": "0.0016161905197387162"
     },
     "execution_count": 18,
     "metadata": {},
     "output_type": "execute_result"
    }
   ],
   "source": [
    "ein(semiconductor, Rnn, xf, t) = Conduction.ein(semiconductor, Conduction.D_ter, Rnn, xf, t)\n",
    "\n",
    "Conduction.overallEinD(semiconductor, ein, Conduction.RnnVRH, T, 15) * semiconductor.k * T / semiconductor.q"
   ]
  }
 ],
 "metadata": {
  "kernelspec": {
   "display_name": "Julia 1.5.3",
   "language": "julia",
   "name": "julia-1.5"
  },
  "language_info": {
   "file_extension": ".jl",
   "mimetype": "application/julia",
   "name": "julia",
   "version": "1.5.3"
  }
 },
 "nbformat": 4,
 "nbformat_minor": 4
}