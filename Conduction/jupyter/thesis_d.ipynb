{
 "cells": [
  {
   "cell_type": "code",
   "execution_count": 1,
   "source": [
    "include(\"../src/Conduction.jl\");\r\n",
    "using Plots, LaTeXStrings, QuadGK;\r\n",
    "\r\n",
    "semiconductor = Conduction.Semiconductor(\r\n",
    "4.34e7, # decay constant of the assumed hydrogen-like localized state wave functions (cm^-1)\r\n",
    "0.1 * 1.6e-19, # Mode effect of the phonons (J)\r\n",
    "3e21, # intrinsic semiconductor's density (cm^-3)\r\n",
    "0, # Doping states' density (cm^-3)\r\n",
    "0.1 * 1.6e-19, # Energy to a vacant target site (J)\r\n",
    "1e13, # Base electron jump rate\r\n",
    "-27, # Fermi level (J)\r\n",
    "2.74, # Intrinsic semiconductor's gaussian width (J)\r\n",
    "2.7, # Doping states' gaussian width (J)\r\n",
    "2.7, # Amount of disorder\r\n",
    ");\r\n",
    "F = -5.3e4; # Field (V.cm^-1)\r\n",
    "T = 300;"
   ],
   "outputs": [],
   "metadata": {}
  },
  {
   "cell_type": "code",
   "execution_count": 2,
   "source": [
    "range = -15:0.5:15;\r\n",
    "\r\n",
    "res = (x -> Conduction.D(semiconductor, x, T, F)).(range);"
   ],
   "outputs": [],
   "metadata": {}
  },
  {
   "cell_type": "code",
   "execution_count": null,
   "source": [
    "plot(range .* ((Conduction.k * T) / (1.602e-19)), res, xlabel=L\"U (eV)\", ylabel=L\"D(cm^2 s^{-1})\", label=\"\", xguidefontsize=14,  yguidefontsize=16, legendfontsize=10, ytickfontsize=12,  xtickfontsize=12)"
   ],
   "outputs": [],
   "metadata": {}
  }
 ],
 "metadata": {
  "orig_nbformat": 4,
  "language_info": {
   "name": "julia"
  }
 },
 "nbformat": 4,
 "nbformat_minor": 2
}