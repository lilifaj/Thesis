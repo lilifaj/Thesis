{
 "cells": [
  {
   "cell_type": "code",
   "execution_count": 4,
   "metadata": {},
   "outputs": [
    {
     "name": "stderr",
     "output_type": "stream",
     "text": [
      "WARNING: replacing module Conduction.\n"
     ]
    }
   ],
   "source": [
    "include(\"../src/Conduction.jl\");\r\n",
    "using Plots, LaTeXStrings;"
   ]
  },
  {
   "cell_type": "code",
   "execution_count": 5,
   "metadata": {},
   "outputs": [
    {
     "data": {
      "text/plain": "fn (generic function with 1 method)"
     },
     "execution_count": 5,
     "metadata": {},
     "output_type": "execute_result"
    }
   ],
   "source": [
    "semiconductor = Conduction.Semiconductor(\r\n",
    "1.38 * 10^-23, # Boltzman constant (J.K^-1)\r\n",
    "1.6*10^-19, # Electron's charge (C)\r\n",
    "10^7, # decay constant of the assumed hydrogen-like localized state wave functions (cm^-1)\r\n",
    "0.1 * 1.6*10^-19, # Mode effect of the phonons (J)\r\n",
    "2.1 * 10^18, # intrinsic semiconductor's density (cm^-3)\r\n",
    "2.1 * 10^18, # Doping states' density (cm^-3)\r\n",
    "0.1 * 1.6 * 10^-19, # Energy to a vacant target site (J)\r\n",
    "-2*10^5, # Field (V.cm^-1)\r\n",
    "10^13, # Base electron jump rate\r\n",
    "-10.0, # Fermi level (J)\r\n",
    "2.7, # Intrinsic semiconductor's gaussian width (J)\r\n",
    "2.7 # Doping states' gaussian width (J)\r\n",
    ");\r\n",
    "\r\n",
    "function fd(semiconductor, U, T)\r\n",
    "    return Conduction.DOS(semiconductor, U, T) * (1 - Conduction.F(semiconductor, U, T))\r\n",
    "end\r\n",
    "\r\n",
    "function fn(semiconductor, U, T)\r\n",
    "    Rnn = Conduction.RnnVRH(semiconductor, U, T)\r\n",
    "    xf = Conduction.xf(semiconductor, Rnn, U, T)\r\n",
    "    t = Conduction.t(semiconductor, Rnn, U, T)\r\n",
    "    return Conduction.ein(semiconductor, Rnn, xf, t) * fd(semiconductor, U, T)\r\n",
    "end"
   ]
  },
  {
   "cell_type": "code",
   "execution_count": 11,
   "metadata": {},
   "outputs": [
    {
     "data": {
      "text/plain": "6.117974971777466e11"
     },
     "execution_count": 11,
     "metadata": {},
     "output_type": "execute_result"
    }
   ],
   "source": [
    "T = 300;\r\n",
    "\r\n",
    "Conduction.average_density(x -> fn(semiconductor, x, T), x -> fd(semiconductor, x, T), 10)"
   ]
  },
  {
   "cell_type": "code",
   "execution_count": 12,
   "metadata": {},
   "outputs": [
    {
     "data": {
      "text/plain": "6.082848630281743e11"
     },
     "execution_count": 12,
     "metadata": {},
     "output_type": "execute_result"
    }
   ],
   "source": [
    "Conduction.average_density(x -> fn(semiconductor, x, T), x -> fd(semiconductor, x, T), 15)"
   ]
  },
  {
   "cell_type": "code",
   "execution_count": 14,
   "metadata": {},
   "outputs": [
    {
     "data": {
      "text/plain": "6.082801453968109e11"
     },
     "execution_count": 14,
     "metadata": {},
     "output_type": "execute_result"
    }
   ],
   "source": [
    "Conduction.average_density(x -> fn(semiconductor, x, T), x -> fd(semiconductor, x, T), 16)"
   ]
  }
 ],
 "metadata": {
  "kernelspec": {
   "display_name": "Julia 1.5.4",
   "name": "julia-1.5"
  },
  "language_info": {
   "file_extension": ".jl",
   "mimetype": "application/julia",
   "name": "julia",
   "version": "1.5.4"
  },
  "orig_nbformat": 2
 },
 "nbformat": 4,
 "nbformat_minor": 2
}