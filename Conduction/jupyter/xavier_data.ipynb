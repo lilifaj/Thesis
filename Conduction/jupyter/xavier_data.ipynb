{
 "cells": [
  {
   "cell_type": "code",
   "execution_count": 1,
   "metadata": {},
   "outputs": [],
   "source": [
    "include(\"../src/Conduction.jl\");\n",
    "using Plots, LaTeXStrings;"
   ]
  },
  {
   "cell_type": "code",
   "execution_count": 2,
   "metadata": {},
   "outputs": [],
   "source": [
    "semiconductor = Conduction.Semiconductor(\n",
    "4.34e7, # decay constant of the assumed hydrogen-like localized state wave functions (cm^-1)\n",
    "0.1 * 1.6e-19, # Mode effect of the phonons (J)\n",
    "3e21, # intrinsic semiconductor's density (cm^-3)\n",
    "0, # Doping states' density (cm^-3)\n",
    "0.1 * 1.6e-19, # Energy to a vacant target site (J)\n",
    "-5.3e4, # Field (V.cm^-1)\n",
    "1e13, # Base electron jump rate\n",
    "-27, # Fermi level (J)\n",
    "2.74, # Intrinsic semiconductor's gaussian width (J)\n",
    "2.7, # Doping states' gaussian width (J)\n",
    "2.7, # Amount of disorder\n",
    "1 / (4.64e-6)\n",
    ");\n",
    "\n",
    "T = 300;"
   ]
  },
  {
   "cell_type": "code",
   "execution_count": 3,
   "metadata": {},
   "outputs": [
    {
     "name": "stdout",
     "output_type": "stream",
     "text": [
      "9.036524451234835e-5\n",
      "6.482963397084739e-10\n",
      "6.236291066402254\n"
     ]
    }
   ],
   "source": [
    "mu = Conduction.overallMobility(semiconductor, Conduction.RnnVRH, T, 15);\r\n",
    "D = Conduction.overallDiffusion(semiconductor, Conduction.RnnVRH, T, 15);\r\n",
    "ein = Conduction.overallEin(semiconductor, Conduction.RnnVRH, T, 15);\r\n",
    "eta = ein / (Conduction.k * T / Conduction.q);\r\n",
    "\r\n",
    "println(mu)\r\n",
    "println(D)\r\n",
    "println(eta)"
   ]
  },
  {
   "cell_type": "markdown",
   "metadata": {},
   "source": [
    "To have $\\eta = 5.2$, we have to take $\\alpha = 1.31*10^7 cm^{-1}$."
   ]
  },
  {
   "cell_type": "code",
   "execution_count": 5,
   "metadata": {},
   "outputs": [
    {
     "name": "stdout",
     "output_type": "stream",
     "text": [
      "0.004825566680534308\n",
      "7.619691723983896e-8\n",
      "5.199929331910703\n"
     ]
    }
   ],
   "source": [
    "semiconductor.alpha = 1.31e7;\r\n",
    "mu = Conduction.overallMobility(semiconductor, Conduction.RnnVRH, T, 15);\r\n",
    "D = Conduction.overallDiffusion(semiconductor, Conduction.RnnVRH, T, 15);\r\n",
    "ein = Conduction.overallEin(semiconductor, Conduction.RnnVRH, T, 15);\r\n",
    "eta = ein / (Conduction.k * T / Conduction.q);\r\n",
    "\r\n",
    "println(mu)\r\n",
    "println(D)\r\n",
    "println(eta)"
   ]
  }
 ],
 "metadata": {
  "kernelspec": {
   "display_name": "Julia 1.5.3",
   "language": "julia",
   "name": "julia-1.5"
  },
  "language_info": {
   "file_extension": ".jl",
   "mimetype": "application/julia",
   "name": "julia",
   "version": "1.5.3"
  }
 },
 "nbformat": 4,
 "nbformat_minor": 4
}