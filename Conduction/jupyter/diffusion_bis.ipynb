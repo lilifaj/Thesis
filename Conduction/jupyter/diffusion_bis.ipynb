{
 "cells": [
  {
   "cell_type": "code",
   "execution_count": 16,
   "metadata": {},
   "outputs": [
    {
     "name": "stderr",
     "output_type": "stream",
     "text": [
      "WARNING: replacing module Conduction.\n"
     ]
    }
   ],
   "source": [
    "include(\"../src/Conduction.jl\");\n",
    "using Plots, LaTeXStrings;"
   ]
  },
  {
   "cell_type": "code",
   "execution_count": 17,
   "metadata": {},
   "outputs": [],
   "source": [
    "semiconductor = Conduction.Semiconductor(\n",
    "1.38 * 10^-23, # Boltzman constant (J.K^-1)\n",
    "1.6*10^-19, # Electron's charge (C)\n",
    "10^7, # decay constant of the assumed hydrogen-like localized state wave functions (cm^-1)\n",
    "0.1 * 1.6*10^-19, # Mode effect of the phonons (J)\n",
    "2.1 * 10^18, # intrinsic semiconductor's density (cm^-3)\n",
    "0, # Doping states' density (cm^-3)\n",
    "0.1 * 1.6 * 10^-19, # Energy to a vacant target site (J)\n",
    "-2*10^3, # Field (V.cm^-1)\n",
    "10^13, # Base electron jump rate\n",
    "-10.0, # Fermi level (J)\n",
    "2.7, # Intrinsic semiconductor's gaussian width (J)\n",
    "2.7, # Doping states' gaussian width (J)\n",
    "2.7, # Amount of disorder\n",
    "1\n",
    ");\n",
    "\n",
    "T = 300;"
   ]
  },
  {
   "cell_type": "code",
   "execution_count": 18,
   "metadata": {},
   "outputs": [
    {
     "data": {
      "text/plain": "-3.7037037037037033"
     },
     "execution_count": 18,
     "metadata": {},
     "output_type": "execute_result"
    }
   ],
   "source": [
    "semiconductor.Uf(T) / semiconductor.SigmaI(T)"
   ]
  },
  {
   "cell_type": "markdown",
   "metadata": {},
   "source": [
    "Compared to papers, the ratio seems too high.\r\n",
    "\r\n",
    "We'll find $E_F$ in such way that $\\dfrac{E_F}{\\sigma} = -6.7$"
   ]
  },
  {
   "cell_type": "code",
   "execution_count": 19,
   "metadata": {},
   "outputs": [
    {
     "data": {
      "text/plain": "18.090000000000003"
     },
     "execution_count": 19,
     "metadata": {},
     "output_type": "execute_result"
    }
   ],
   "source": [
    "6.7 * semiconductor.SigmaI(T) / semiconductor.k / T"
   ]
  },
  {
   "cell_type": "code",
   "execution_count": 20,
   "metadata": {},
   "outputs": [],
   "source": [
    "semiconductor.Uf(T) = -15.41 * semiconductor.k * T;"
   ]
  },
  {
   "cell_type": "markdown",
   "metadata": {},
   "source": [
    "This is the original diffusion equation that we found."
   ]
  },
  {
   "cell_type": "code",
   "execution_count": 21,
   "metadata": {},
   "outputs": [
    {
     "data": {
      "text/plain": "1.6081349760803938e-12"
     },
     "execution_count": 21,
     "metadata": {},
     "output_type": "execute_result"
    }
   ],
   "source": [
    "Conduction.overallEinD(semiconductor, Conduction.D, Conduction.RnnVRH, T, 15)"
   ]
  },
  {
   "cell_type": "markdown",
   "metadata": {},
   "source": [
    "`D_ter` is the function that's in Xavier's thesis: $D\\left(\\varepsilon_{i}\\right)=\\frac{1}{6}\\left(2 \\overline{X_{f}} R_{i, n n} v_{0} t\\left(\\varepsilon_{i}\\right) \\exp \\left(-r_{i, n n}\\right)+\\left(R_{i, n n}\\right)^{2}\\right) v_{0} \\exp \\left(-r_{i, n n}\\right)$"
   ]
  },
  {
   "cell_type": "code",
   "execution_count": 22,
   "metadata": {},
   "outputs": [
    {
     "data": {
      "text/plain": "2.1149355029962865e-7"
     },
     "execution_count": 22,
     "metadata": {},
     "output_type": "execute_result"
    }
   ],
   "source": [
    "Conduction.overallEinD(semiconductor, Conduction.D_ter, Conduction.RnnVRH, T, 15)"
   ]
  },
  {
   "cell_type": "code",
   "execution_count": 23,
   "metadata": {},
   "outputs": [
    {
     "data": {
      "text/plain": "1.2800233320188681e-5"
     },
     "execution_count": 23,
     "metadata": {},
     "output_type": "execute_result"
    }
   ],
   "source": [
    "ein(semiconductor, Rnn, xf, t) = Conduction.ein(semiconductor, Conduction.D, Rnn, xf, t)\r\n",
    "\r\n",
    "Conduction.overallEinD(semiconductor, ein, Conduction.RnnVRH, T, 15) / (semiconductor.k * T / semiconductor.q)"
   ]
  },
  {
   "cell_type": "code",
   "execution_count": 24,
   "metadata": {},
   "outputs": [
    {
     "data": {
      "text/plain": "2.8049614917023624"
     },
     "execution_count": 24,
     "metadata": {},
     "output_type": "execute_result"
    }
   ],
   "source": [
    "ein(semiconductor, Rnn, xf, t) = Conduction.ein(semiconductor, Conduction.D_ter, Rnn, xf, t)\r\n",
    "\r\n",
    "Conduction.overallEinD(semiconductor, ein, Conduction.RnnVRH, T, 15) / (semiconductor.k * T / semiconductor.q)"
   ]
  },
  {
   "cell_type": "markdown",
   "metadata": {},
   "source": [
    "We'll now take $E_F$ in such way that $\\dfrac{E_F}{\\sigma} = -6.2$ and $\\sigma = 3 k_BT$"
   ]
  },
  {
   "cell_type": "code",
   "execution_count": 25,
   "metadata": {},
   "outputs": [
    {
     "data": {
      "text/plain": "18.6"
     },
     "execution_count": 25,
     "metadata": {},
     "output_type": "execute_result"
    }
   ],
   "source": [
    "semiconductor.SigmaI(T) = 3 * semiconductor.k * T\r\n",
    "6.2 * semiconductor.SigmaI(T) / semiconductor.k / T"
   ]
  },
  {
   "cell_type": "code",
   "execution_count": 26,
   "metadata": {},
   "outputs": [],
   "source": [
    "semiconductor.Uf(T) = -18.6 * semiconductor.k * T;"
   ]
  },
  {
   "cell_type": "code",
   "execution_count": 27,
   "metadata": {},
   "outputs": [
    {
     "name": "stdout",
     "output_type": "stream",
     "text": [
      "7.432183956955978e-13\n",
      "1.0568820011617803e-7\n"
     ]
    }
   ],
   "source": [
    "println(Conduction.overallEinD(semiconductor, Conduction.D, Conduction.RnnVRH, T, 15))\r\n",
    "println(Conduction.overallEinD(semiconductor, Conduction.D_ter, Conduction.RnnVRH, T, 15))"
   ]
  },
  {
   "cell_type": "code",
   "execution_count": 31,
   "metadata": {},
   "outputs": [
    {
     "data": {
      "text/plain": "1.3051551273930197e-5"
     },
     "execution_count": 31,
     "metadata": {},
     "output_type": "execute_result"
    }
   ],
   "source": [
    "ein(semiconductor, Rnn, xf, t) = Conduction.ein(semiconductor, Conduction.D, Rnn, xf, t)\r\n",
    "\r\n",
    "Conduction.overallEinD(semiconductor, ein, Conduction.RnnVRH, T, 15) / (semiconductor.k * T / semiconductor.q)"
   ]
  },
  {
   "cell_type": "code",
   "execution_count": 30,
   "metadata": {},
   "outputs": [
    {
     "data": {
      "text/plain": "3.6321123204204557"
     },
     "execution_count": 30,
     "metadata": {},
     "output_type": "execute_result"
    }
   ],
   "source": [
    "ein(semiconductor, Rnn, xf, t) = Conduction.ein(semiconductor, Conduction.D_ter, Rnn, xf, t)\r\n",
    "\r\n",
    "Conduction.overallEinD(semiconductor, ein, Conduction.RnnVRH, T, 15) / (semiconductor.k * T / semiconductor.q)"
   ]
  }
 ],
 "metadata": {
  "kernelspec": {
   "display_name": "Julia 1.5.4",
   "language": "julia",
   "name": "julia-1.5"
  },
  "language_info": {
   "file_extension": ".jl",
   "mimetype": "application/julia",
   "name": "julia",
   "version": "1.5.4"
  }
 },
 "nbformat": 4,
 "nbformat_minor": 4
}