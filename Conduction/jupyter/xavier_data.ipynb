{
 "cells": [
  {
   "cell_type": "code",
   "execution_count": 50,
   "metadata": {},
   "outputs": [
    {
     "name": "stderr",
     "output_type": "stream",
     "text": [
      "WARNING: replacing module Conduction.\n"
     ]
    }
   ],
   "source": [
    "include(\"../src/Conduction.jl\");\n",
    "using Plots, LaTeXStrings;"
   ]
  },
  {
   "cell_type": "code",
   "execution_count": 52,
   "metadata": {},
   "outputs": [
    {
     "ename": "LoadError",
     "evalue": "\u001b[91mMethodError: objects of type Float64 are not callable\u001b[39m",
     "output_type": "error",
     "traceback": [
      "\u001b[91mMethodError: objects of type Float64 are not callable\u001b[39m",
      "",
      "Stacktrace:",
      " [1] (::Main.Conduction.var\"#fn#54\"{Main.Conduction.Semiconductor,Int64})(::Float64, ::Float64) at /home/lilifaj/Workspace/Thesis/Conduction/src/Conduction.jl:180",
      " [2] (::Main.Conduction.var\"#fn_final#55\"{Main.Conduction.Semiconductor,typeof(Main.Conduction.RnnVRH),Int64,Main.Conduction.var\"#fn#54\"{Main.Conduction.Semiconductor,Int64}})(::Float64) at /home/lilifaj/Workspace/Thesis/Conduction/src/Conduction.jl:185",
      " [3] (::Main.Conduction.var\"#34#35\"{Main.Conduction.var\"#fn_final#55\"{Main.Conduction.Semiconductor,typeof(Main.Conduction.RnnVRH),Int64,Main.Conduction.var\"#fn#54\"{Main.Conduction.Semiconductor,Int64}}})(::Float64) at /home/lilifaj/Workspace/Thesis/Conduction/src/Utilities.jl:34",
      " [4] evalrule(::Main.Conduction.var\"#34#35\"{Main.Conduction.var\"#fn_final#55\"{Main.Conduction.Semiconductor,typeof(Main.Conduction.RnnVRH),Int64,Main.Conduction.var\"#fn#54\"{Main.Conduction.Semiconductor,Int64}}}, ::Int64, ::Int64, ::Array{Float64,1}, ::Array{Float64,1}, ::Array{Float64,1}, ::typeof(LinearAlgebra.norm)) at /home/lilifaj/.julia/packages/QuadGK/czbUH/src/evalrule.jl:20",
      " [5] (::QuadGK.var\"#2#5\"{Main.Conduction.var\"#34#35\"{Main.Conduction.var\"#fn_final#55\"{Main.Conduction.Semiconductor,typeof(Main.Conduction.RnnVRH),Int64,Main.Conduction.var\"#fn#54\"{Main.Conduction.Semiconductor,Int64}}},Tuple{Int64,Int64},typeof(LinearAlgebra.norm),Array{Float64,1},Array{Float64,1},Array{Float64,1}})(::Int64) at /home/lilifaj/.julia/packages/QuadGK/czbUH/src/adapt.jl:10",
      " [6] ntuple at ./ntuple.jl:41 [inlined]",
      " [7] do_quadgk(::Main.Conduction.var\"#34#35\"{Main.Conduction.var\"#fn_final#55\"{Main.Conduction.Semiconductor,typeof(Main.Conduction.RnnVRH),Int64,Main.Conduction.var\"#fn#54\"{Main.Conduction.Semiconductor,Int64}}}, ::Tuple{Int64,Int64}, ::Int64, ::Nothing, ::Float64, ::Int64, ::typeof(LinearAlgebra.norm)) at /home/lilifaj/.julia/packages/QuadGK/czbUH/src/adapt.jl:10",
      " [8] (::QuadGK.var\"#28#29\"{Nothing,Float64,Int64,Int64,typeof(LinearAlgebra.norm)})(::Function, ::Tuple{Int64,Int64}, ::Function) at /home/lilifaj/.julia/packages/QuadGK/czbUH/src/adapt.jl:179",
      " [9] handle_infinities at /home/lilifaj/.julia/packages/QuadGK/czbUH/src/adapt.jl:113 [inlined]",
      " [10] #quadgk#27 at /home/lilifaj/.julia/packages/QuadGK/czbUH/src/adapt.jl:177 [inlined]",
      " [11] average_density_integral(::Main.Conduction.var\"#fn_final#55\"{Main.Conduction.Semiconductor,typeof(Main.Conduction.RnnVRH),Int64,Main.Conduction.var\"#fn#54\"{Main.Conduction.Semiconductor,Int64}}, ::Int64) at /home/lilifaj/Workspace/Thesis/Conduction/src/Utilities.jl:33",
      " [12] average_density(::Function, ::Function, ::Int64) at /home/lilifaj/Workspace/Thesis/Conduction/src/Utilities.jl:47",
      " [13] overallMobility(::Main.Conduction.Semiconductor, ::typeof(Main.Conduction.RnnVRH), ::Int64, ::Int64) at /home/lilifaj/Workspace/Thesis/Conduction/src/Conduction.jl:187",
      " [14] top-level scope at In[52]:4",
      " [15] include_string(::Function, ::Module, ::String, ::String) at ./loading.jl:1091"
     ]
    }
   ],
   "source": [
    "#Conduction.overallMobility(semiconductor, Conduction.RnnVRH, T, 15)\n",
    "range = 0:1:10;\n",
    "# res = (x -> Conduction.RnnVRH(semiconductor, x, T)).(range)\n",
    "a = Conduction.overallMobility(semiconductor, Conduction.RnnVRH, T, 15)\n"
   ]
  },
  {
   "cell_type": "code",
   "execution_count": 51,
   "metadata": {},
   "outputs": [],
   "source": [
    "semiconductor = Conduction.Semiconductor(\n",
    "1.38e-23, # Boltzman constant (J.K^-1)\n",
    "1.6e-19, # Electron's charge (C)\n",
    "4.34e6, # decay constant of the assumed hydrogen-like localized state wave functions (cm^-1)\n",
    "0.1 * 1.6e-19, # Mode effect of the phonons (J)\n",
    "3e21, # intrinsic semiconductor's density (cm^-3)\n",
    "0, # Doping states' density (cm^-3)\n",
    "0.1 * 1.6e-19, # Energy to a vacant target site (J)\n",
    "-5.3e3, # Field (V.cm^-1)\n",
    "1e13, # Base electron jump rate\n",
    "-27, # Fermi level (J)\n",
    "2.74, # Intrinsic semiconductor's gaussian width (J)\n",
    "2.7, # Doping states' gaussian width (J)\n",
    "2.7, # Amount of disorder\n",
    "1 / (4.64e-6)\n",
    ");\n",
    "\n",
    "T = 300;"
   ]
  }
 ],
 "metadata": {
  "kernelspec": {
   "display_name": "Julia 1.5.3",
   "name": "julia-1.5"
  },
  "language_info": {
   "file_extension": ".jl",
   "mimetype": "application/julia",
   "name": "julia",
   "version": "1.5.3"
  },
  "orig_nbformat": 2
 },
 "nbformat": 4,
 "nbformat_minor": 2
}