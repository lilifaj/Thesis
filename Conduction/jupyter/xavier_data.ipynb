{
 "cells": [
  {
   "cell_type": "code",
   "execution_count": 7,
   "metadata": {},
   "outputs": [
    {
     "name": "stderr",
     "output_type": "stream",
     "text": [
      "WARNING: replacing module Conduction.\n"
     ]
    }
   ],
   "source": [
    "include(\"../src/Conduction.jl\");\n",
    "using Plots, LaTeXStrings;"
   ]
  },
  {
   "cell_type": "code",
   "execution_count": 8,
   "metadata": {},
   "outputs": [],
   "source": [
    "semiconductor = Conduction.Semiconductor(\n",
    "1.38 * 10^-23, # Boltzman constant (J.K^-1)\n",
    "1.6*10^-19, # Electron's charge (C)\n",
    "4.34*10^6, # decay constant of the assumed hydrogen-like localized state wave functions (cm^-1)\n",
    "0.1 * 1.6*10^-19, # Mode effect of the phonons (J)\n",
    "3 * 10^21, # intrinsic semiconductor's density (cm^-3)\n",
    "0, # Doping states' density (cm^-3)\n",
    "0.1 * 1.6 * 10^-19, # Energy to a vacant target site (J)\n",
    "-5.3*10^3, # Field (V.cm^-1)\n",
    "10^13, # Base electron jump rate\n",
    "-27, # Fermi level (J)\n",
    "2.74, # Intrinsic semiconductor's gaussian width (J)\n",
    "2.7, # Doping states' gaussian width (J)\n",
    "2.7, # Amount of disorder\n",
    "1 / (4.64 * 10^(-6))\n",
    ");\n",
    "\n",
    "T = 300;"
   ]
  },
  {
   "cell_type": "code",
   "execution_count": 9,
   "metadata": {},
   "outputs": [
    {
     "ename": "LoadError",
     "evalue": "\u001b[91mRoot function starting point does not lead to a convergence\u001b[39m",
     "output_type": "error",
     "traceback": [
      "\u001b[91mRoot function starting point does not lead to a convergence\u001b[39m",
      "",
      "Stacktrace:",
      " [1] Rnn(::Main.Conduction.Semiconductor, ::Float64, ::Int64, ::Int64) at /home/lilifaj/Workspace/Thesis/Conduction/src/Conduction.jl:56",
      " [2] RnnVRH at /home/lilifaj/Workspace/Thesis/Conduction/src/Conduction.jl:41 [inlined]",
      " [3] (::Main.Conduction.var\"#fn_final#55\"{Main.Conduction.Semiconductor,typeof(Main.Conduction.RnnVRH),Int64,Main.Conduction.var\"#fn#54\"{Main.Conduction.Semiconductor,Int64}})(::Float64) at /home/lilifaj/Workspace/Thesis/Conduction/src/Conduction.jl:185",
      " [4] (::Main.Conduction.var\"#34#35\"{Main.Conduction.var\"#fn_final#55\"{Main.Conduction.Semiconductor,typeof(Main.Conduction.RnnVRH),Int64,Main.Conduction.var\"#fn#54\"{Main.Conduction.Semiconductor,Int64}}})(::Float64) at /home/lilifaj/Workspace/Thesis/Conduction/src/Utilities.jl:34",
      " [5] evalrule(::Main.Conduction.var\"#34#35\"{Main.Conduction.var\"#fn_final#55\"{Main.Conduction.Semiconductor,typeof(Main.Conduction.RnnVRH),Int64,Main.Conduction.var\"#fn#54\"{Main.Conduction.Semiconductor,Int64}}}, ::Int64, ::Int64, ::Array{Float64,1}, ::Array{Float64,1}, ::Array{Float64,1}, ::typeof(LinearAlgebra.norm)) at /home/lilifaj/.julia/packages/QuadGK/czbUH/src/evalrule.jl:20",
      " [6] (::QuadGK.var\"#2#5\"{Main.Conduction.var\"#34#35\"{Main.Conduction.var\"#fn_final#55\"{Main.Conduction.Semiconductor,typeof(Main.Conduction.RnnVRH),Int64,Main.Conduction.var\"#fn#54\"{Main.Conduction.Semiconductor,Int64}}},Tuple{Int64,Int64},typeof(LinearAlgebra.norm),Array{Float64,1},Array{Float64,1},Array{Float64,1}})(::Int64) at /home/lilifaj/.julia/packages/QuadGK/czbUH/src/adapt.jl:10",
      " [7] ntuple at ./ntuple.jl:41 [inlined]",
      " [8] do_quadgk(::Main.Conduction.var\"#34#35\"{Main.Conduction.var\"#fn_final#55\"{Main.Conduction.Semiconductor,typeof(Main.Conduction.RnnVRH),Int64,Main.Conduction.var\"#fn#54\"{Main.Conduction.Semiconductor,Int64}}}, ::Tuple{Int64,Int64}, ::Int64, ::Nothing, ::Float64, ::Int64, ::typeof(LinearAlgebra.norm)) at /home/lilifaj/.julia/packages/QuadGK/czbUH/src/adapt.jl:10",
      " [9] (::QuadGK.var\"#28#29\"{Nothing,Float64,Int64,Int64,typeof(LinearAlgebra.norm)})(::Function, ::Tuple{Int64,Int64}, ::Function) at /home/lilifaj/.julia/packages/QuadGK/czbUH/src/adapt.jl:179",
      " [10] handle_infinities at /home/lilifaj/.julia/packages/QuadGK/czbUH/src/adapt.jl:113 [inlined]",
      " [11] #quadgk#27 at /home/lilifaj/.julia/packages/QuadGK/czbUH/src/adapt.jl:177 [inlined]",
      " [12] average_density_integral(::Main.Conduction.var\"#fn_final#55\"{Main.Conduction.Semiconductor,typeof(Main.Conduction.RnnVRH),Int64,Main.Conduction.var\"#fn#54\"{Main.Conduction.Semiconductor,Int64}}, ::Int64) at /home/lilifaj/Workspace/Thesis/Conduction/src/Utilities.jl:33",
      " [13] average_density(::Function, ::Function, ::Int64) at /home/lilifaj/Workspace/Thesis/Conduction/src/Utilities.jl:47",
      " [14] overallMobility(::Main.Conduction.Semiconductor, ::typeof(Main.Conduction.RnnVRH), ::Int64, ::Int64) at /home/lilifaj/Workspace/Thesis/Conduction/src/Conduction.jl:187",
      " [15] top-level scope at In[9]:1",
      " [16] include_string(::Function, ::Module, ::String, ::String) at ./loading.jl:1091"
     ]
    }
   ],
   "source": [
    "Conduction.overallMobility(semiconductor, Conduction.RnnVRH, T, 15)"
   ]
  }
 ],
 "metadata": {
  "kernelspec": {
   "display_name": "Julia 1.5.3",
   "name": "julia-1.5"
  },
  "language_info": {
   "file_extension": ".jl",
   "mimetype": "application/julia",
   "name": "julia",
   "version": "1.5.3"
  },
  "orig_nbformat": 2
 },
 "nbformat": 4,
 "nbformat_minor": 2
}