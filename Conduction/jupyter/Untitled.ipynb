{
 "cells": [
  {
   "cell_type": "code",
   "execution_count": 6,
   "id": "constant-midwest",
   "metadata": {},
   "outputs": [
    {
     "name": "stderr",
     "output_type": "stream",
     "text": [
      "WARNING: replacing module Conduction.\n"
     ]
    }
   ],
   "source": [
    "include(\"../src/Conduction.jl\");\n",
    "using Plots, LaTeXStrings;"
   ]
  },
  {
   "cell_type": "code",
   "execution_count": 27,
   "id": "streaming-craft",
   "metadata": {},
   "outputs": [],
   "source": [
    "semiconductor = Conduction.Semiconductor(\n",
    "1.38 * 10^-23, # Boltzman constant (J.K^-1)\n",
    "1.6*10^-19, # Electron's charge (C)\n",
    "10^7, # decay constant of the assumed hydrogen-like localized state wave functions (cm^-1)\n",
    "0.1 * 1.6*10^-19, # Mode effect of the phonons (J)\n",
    "2.1 * 10^18, # intrinsic semiconductor's density (cm^-3)\n",
    "0, # Doping states' density (cm^-3)\n",
    "0.1 * 1.6 * 10^-19, # Energy to a vacant target site (J)\n",
    "-2*10^3, # Field (V.cm^-1)\n",
    "10^13, # Base electron jump rate\n",
    "-10.0, # Fermi level (J)\n",
    "2., # Intrinsic semiconductor's gaussian width (J)\n",
    "2.7, # Doping states' gaussian width (J)\n",
    "2.7, # Amount of disorder\n",
    "1 # Phonon lower frequency\n",
    ");\n",
    "\n",
    "T = 300;\n",
    "range = -15:1:15;"
   ]
  },
  {
   "cell_type": "code",
   "execution_count": 28,
   "id": "reduced-quantity",
   "metadata": {},
   "outputs": [
    {
     "data": {
      "text/plain": [
       "-4.1400000000000044e-20"
      ]
     },
     "execution_count": 28,
     "metadata": {},
     "output_type": "execute_result"
    }
   ],
   "source": [
    "semiconductor.Uf(T)"
   ]
  },
  {
   "cell_type": "code",
   "execution_count": 29,
   "id": "focused-freeware",
   "metadata": {},
   "outputs": [
    {
     "data": {
      "text/plain": [
       "8.28000000000001e-21"
      ]
     },
     "execution_count": 29,
     "metadata": {},
     "output_type": "execute_result"
    }
   ],
   "source": [
    "semiconductor.SigmaI(T)"
   ]
  },
  {
   "cell_type": "code",
   "execution_count": 30,
   "id": "turned-blond",
   "metadata": {},
   "outputs": [
    {
     "data": {
      "text/plain": [
       "-5.0"
      ]
     },
     "execution_count": 30,
     "metadata": {},
     "output_type": "execute_result"
    }
   ],
   "source": [
    "semiconductor.Uf(T) / semiconductor.SigmaI(T)"
   ]
  },
  {
   "cell_type": "code",
   "execution_count": null,
   "id": "institutional-hughes",
   "metadata": {},
   "outputs": [],
   "source": []
  }
 ],
 "metadata": {
  "kernelspec": {
   "display_name": "Julia 1.5.3",
   "language": "julia",
   "name": "julia-1.5"
  },
  "language_info": {
   "file_extension": ".jl",
   "mimetype": "application/julia",
   "name": "julia",
   "version": "1.5.3"
  }
 },
 "nbformat": 4,
 "nbformat_minor": 5
}
