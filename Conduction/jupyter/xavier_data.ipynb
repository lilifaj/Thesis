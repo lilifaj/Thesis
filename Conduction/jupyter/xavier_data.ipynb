{
 "cells": [
  {
   "cell_type": "code",
   "execution_count": 11,
   "metadata": {},
   "outputs": [
    {
     "name": "stderr",
     "output_type": "stream",
     "text": [
      "WARNING: replacing module Conduction.\n"
     ]
    }
   ],
   "source": [
    "include(\"../src/Conduction.jl\");\n",
    "using Plots, LaTeXStrings;"
   ]
  },
  {
   "cell_type": "code",
   "execution_count": 12,
   "metadata": {},
   "outputs": [
    {
     "ename": "LoadError",
     "evalue": "\u001b[91mUndefVarError: e not defined\u001b[39m",
     "output_type": "error",
     "traceback": [
      "\u001b[91mUndefVarError: e not defined\u001b[39m",
      "",
      "Stacktrace:",
      " [1] top-level scope at In[12]:1",
      " [2] include_string(::Function, ::Module, ::String, ::String) at .\\loading.jl:1091"
     ]
    }
   ],
   "source": [
    "semiconductor = Conduction.Semiconductor(\r\n",
    "1.38e-23, # Boltzman constant (J.K^-1)\r\n",
    "1.6e-19, # Electron's charge (C)\r\n",
    "4.34e6, # decay constant of the assumed hydrogen-like localized state wave functions (cm^-1)\r\n",
    "0.1 * 1.6e-19, # Mode effect of the phonons (J)\r\n",
    "3e21, # intrinsic semiconductor's density (cm^-3)\r\n",
    "0, # Doping states' density (cm^-3)\r\n",
    "0.1 * 1.6e-19, # Energy to a vacant target site (J)\r\n",
    "-5.3e3, # Field (V.cm^-1)\r\n",
    "1e13, # Base electron jump rate\r\n",
    "-27, # Fermi level (J)\r\n",
    "2.74, # Intrinsic semiconductor's gaussian width (J)\r\n",
    "2.7, # Doping states' gaussian width (J)\r\n",
    "2.7, # Amount of disorder\r\n",
    "1 / (4.64e-6)\r\n",
    ");\r\n",
    "\r\n",
    "T = 300;"
   ]
  },
  {
   "cell_type": "code",
   "execution_count": null,
   "metadata": {},
   "outputs": [
    {
     "data": {
      "text/plain": "11-element Array{Float64,1}:\n -8.86929827085391e37\n -1.3884495246989257e38\n -1.9024954189995958e38\n -2.2817593086756867e38\n -2.3953486208061867e38\n -2.2010013884303412e38\n -1.7702091891007244e38\n -1.2461822263034234e38\n -7.678761920424294e37\n -4.141460655995123e37\n -1.955098150933615e37"
     },
     "execution_count": 10,
     "metadata": {},
     "output_type": "execute_result"
    }
   ],
   "source": [
    "#Conduction.overallMobility(semiconductor, Conduction.RnnVRH, T, 15)\r\n",
    "range = 0:1:10;\r\n",
    "res = (x -> Conduction.DOS(semiconductor, x, T)).(range)"
   ]
  }
 ],
 "metadata": {
  "kernelspec": {
   "display_name": "Julia 1.5.4",
   "language": "julia",
   "name": "julia-1.5"
  },
  "language_info": {
   "file_extension": ".jl",
   "mimetype": "application/julia",
   "name": "julia",
   "version": "1.5.4"
  },
  "orig_nbformat": 2
 },
 "nbformat": 4,
 "nbformat_minor": 2
}