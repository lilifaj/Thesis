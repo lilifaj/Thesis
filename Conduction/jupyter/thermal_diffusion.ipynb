{
 "cells": [
  {
   "cell_type": "code",
   "execution_count": 4,
   "metadata": {},
   "outputs": [
    {
     "name": "stderr",
     "output_type": "stream",
     "text": [
      "WARNING: replacing module Conduction.\n"
     ]
    }
   ],
   "source": [
    "include(\"../src/Conduction.jl\");\n",
    "using Plots, LaTeXStrings;"
   ]
  },
  {
   "cell_type": "code",
   "execution_count": 5,
   "metadata": {},
   "outputs": [],
   "source": [
    "semiconductor = Conduction.Semiconductor(\n",
    "4.34e7, # decay constant of the assumed hydrogen-like localized state wave functions (cm^-1)\n",
    "0.1 * 1.6e-19, # Mode effect of the phonons (J)\n",
    "3e21, # intrinsic semiconductor's density (cm^-3)\n",
    "0, # Doping states' density (cm^-3)\n",
    "0.1 * 1.6e-19, # Energy to a vacant target site (J)\n",
    "-5.3e4, # Field (V.cm^-1)\n",
    "1e13, # Base electron jump rate\n",
    "-27, # Fermi level (J)\n",
    "2.74, # Intrinsic semiconductor's gaussian width (J)\n",
    "2.7, # Doping states' gaussian width (J)\n",
    "2.7, # Amount of disorder\n",
    "150e-7\n",
    ");\n",
    "\n",
    "T = 300;"
   ]
  },
  {
   "cell_type": "code",
   "execution_count": 8,
   "metadata": {},
   "outputs": [
    {
     "data": {
      "text/plain": [
       "9.563227602117844e-11"
      ]
     },
     "execution_count": 8,
     "metadata": {},
     "output_type": "execute_result"
    }
   ],
   "source": [
    "Conduction.kp(semiconductor, T)"
   ]
  }
 ],
 "metadata": {
  "kernelspec": {
   "display_name": "Julia 1.5.3",
   "language": "julia",
   "name": "julia-1.5"
  },
  "language_info": {
   "file_extension": ".jl",
   "mimetype": "application/julia",
   "name": "julia",
   "version": "1.5.3"
  }
 },
 "nbformat": 4,
 "nbformat_minor": 4
}