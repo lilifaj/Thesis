{
 "cells": [
  {
   "cell_type": "code",
   "execution_count": 3,
   "source": [
    "include(\"../src/Conduction.jl\");\n",
    "using Plots, LaTeXStrings, QuadGK, Roots;\n",
    "\n",
    "semiconductor = Conduction.Semiconductor(\n",
    "4.34e7, # decay constant of the assumed hydrogen-like localized state wave functions (cm^-1)\n",
    "0.1 * 1.6e-19, # Mode effect of the phonons (J)\n",
    "3e21, # intrinsic semiconductor's density (cm^-3)\n",
    "3e21 * 0.001, # Doping states' density (cm^-3)\n",
    "0.29 * 1.6e-19, # Energy to a vacant target site (J)\n",
    "1e13, # Base electron jump rate\n",
    "-0.62, # Fermi level (J)\n",
    "0.1, # Intrinsic semiconductor's gaussian width (J)\n",
    "0.1, # Doping states' gaussian width (J)\n",
    ");\n",
    "\n",
    "F = -5.3e4; # Field (V.cm^-1)\n",
    "T = 300;"
   ],
   "outputs": [
    {
     "output_type": "stream",
     "name": "stderr",
     "text": [
      "WARNING: replacing module Conduction.\n"
     ]
    }
   ],
   "metadata": {}
  },
  {
   "cell_type": "code",
   "execution_count": 4,
   "source": [
    "ratio = [0.001 * 3i for i in 0:1:10];\n",
    "\n",
    "p() = quadgk(\n",
    "    r -> Conduction.DOS(semiconductor, r, T) * Conduction.F(semiconductor, r, T) * Conduction.k * T,\n",
    "    -Inf,\n",
    "    Inf\n",
    ")[1];"
   ],
   "outputs": [
    {
     "output_type": "execute_result",
     "data": {
      "text/plain": [
       "4.759067233968731e15"
      ]
     },
     "metadata": {},
     "execution_count": 4
    }
   ],
   "metadata": {}
  },
  {
   "cell_type": "code",
   "execution_count": 5,
   "source": [
    "res = [];\n",
    "\n",
    "for i in ratio\n",
    "    semiconductor.Nd = semiconductor.Ni * ratio;\n",
    "    append!(res, Conduction.overallDiffusion(semiconductor, T, F));\n",
    "end"
   ],
   "outputs": [
    {
     "output_type": "execute_result",
     "data": {
      "text/plain": [
       "2.002537261716832e14"
      ]
     },
     "metadata": {},
     "execution_count": 5
    }
   ],
   "metadata": {}
  }
 ],
 "metadata": {
  "orig_nbformat": 4,
  "language_info": {
   "name": "julia"
  }
 },
 "nbformat": 4,
 "nbformat_minor": 2
}