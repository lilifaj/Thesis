{
 "cells": [
  {
   "cell_type": "code",
   "execution_count": 1,
   "metadata": {},
   "outputs": [],
   "source": [
    "include(\"../src/Conduction.jl\");\n",
    "using Plots, LaTeXStrings;"
   ]
  },
  {
   "cell_type": "code",
   "execution_count": 2,
   "metadata": {},
   "outputs": [],
   "source": [
    "semiconductor = Conduction.Semiconductor(\n",
    "1.38 * 10^-23, # Boltzman constant (J.K^-1)\n",
    "1.6*10^-19, # Electron's charge (C)\n",
    "10^7, # decay constant of the assumed hydrogen-like localized state wave functions (cm^-1)\n",
    "0.1 * 1.6*10^-19, # Mode effect of the phonons (J)\n",
    "2.1 * 10^18, # intrinsic semiconductor's density (cm^-3)\n",
    "0, # Doping states' density (cm^-3)\n",
    "0.1 * 1.6 * 10^-19, # Energy to a vacant target site (J)\n",
    "-2*10^3, # Field (V.cm^-1)\n",
    "10^13, # Base electron jump rate\n",
    "-10.0, # Fermi level (J)\n",
    "2.3, # Intrinsic semiconductor's gaussian width (J)\n",
    "2.7, # Doping states' gaussian width (J)\n",
    "2.7, # Amount of disorder\n",
    "1 # Phonon lower frequency\n",
    ");\n",
    "\n",
    "T = 300;\n",
    "range = -15:1:15;"
   ]
  },
  {
   "cell_type": "code",
   "execution_count": 3,
   "metadata": {},
   "outputs": [
    {
     "data": {
      "text/plain": [
       "-4.3478260869565215"
      ]
     },
     "execution_count": 3,
     "metadata": {},
     "output_type": "execute_result"
    }
   ],
   "source": [
    "semiconductor.Uf(T) / semiconductor.SigmaI(T)"
   ]
  },
  {
   "cell_type": "markdown",
   "metadata": {},
   "source": [
    "Compared to papers, the ratio seems too high"
   ]
  },
  {
   "cell_type": "code",
   "execution_count": 4,
   "metadata": {},
   "outputs": [
    {
     "data": {
      "text/plain": [
       "3.2951394948128266e6"
      ]
     },
     "execution_count": 4,
     "metadata": {},
     "output_type": "execute_result"
    }
   ],
   "source": [
    "Conduction.overallEin(semiconductor, Conduction.RnnVRH, T, 15) * semiconductor.k * T / semiconductor.q"
   ]
  },
  {
   "cell_type": "code",
   "execution_count": 6,
   "metadata": {},
   "outputs": [
    {
     "name": "stdout",
     "output_type": "stream",
     "text": [
      "-0.25875\n",
      "0.059512499999999996\n"
     ]
    }
   ],
   "source": [
    "println(semiconductor.Uf(T) / (1.6 * 10^-19))\n",
    "println(semiconductor.SigmaI(T) / (1.6 * 10^-19))"
   ]
  },
  {
   "cell_type": "markdown",
   "metadata": {},
   "source": [
    "Fermi level is too high."
   ]
  },
  {
   "cell_type": "code",
   "execution_count": 10,
   "metadata": {},
   "outputs": [
    {
     "data": {
      "text/plain": [
       "-3.7037037037037033"
      ]
     },
     "execution_count": 10,
     "metadata": {},
     "output_type": "execute_result"
    }
   ],
   "source": [
    "semiconductor.Uf(T) / semiconductor.SigmaI(T)"
   ]
  },
  {
   "cell_type": "markdown",
   "metadata": {},
   "source": [
    " We'll find $E_F$ in such way that $\\dfrac{E_F}{\\sigma} = -6.2$"
   ]
  },
  {
   "cell_type": "code",
   "execution_count": 8,
   "metadata": {},
   "outputs": [
    {
     "data": {
      "text/plain": [
       "14.26"
      ]
     },
     "execution_count": 8,
     "metadata": {},
     "output_type": "execute_result"
    }
   ],
   "source": [
    "6.7 * semiconductor.SigmaI(T) / semiconductor.k / T"
   ]
  },
  {
   "cell_type": "code",
   "execution_count": 12,
   "metadata": {},
   "outputs": [
    {
     "data": {
      "text/plain": [
       "3.31060033468195e6"
      ]
     },
     "execution_count": 12,
     "metadata": {},
     "output_type": "execute_result"
    }
   ],
   "source": [
    "semiconductor.Uf(T) = -14.26 * semiconductor.k * T;\n",
    "Conduction.overallEin(semiconductor, Conduction.RnnVRH, T, 15) * semiconductor.k * T / semiconductor.q"
   ]
  },
  {
   "cell_type": "markdown",
   "metadata": {},
   "source": [
    "We'll take $E_F$ low compared to the otger values."
   ]
  },
  {
   "cell_type": "code",
   "execution_count": 13,
   "metadata": {},
   "outputs": [
    {
     "data": {
      "text/plain": [
       "4.6"
      ]
     },
     "execution_count": 13,
     "metadata": {},
     "output_type": "execute_result"
    }
   ],
   "source": [
    "2 * semiconductor.SigmaI(T) / semiconductor.k / T"
   ]
  },
  {
   "cell_type": "code",
   "execution_count": 14,
   "metadata": {},
   "outputs": [
    {
     "data": {
      "text/plain": [
       "3.1479635703988867e6"
      ]
     },
     "execution_count": 14,
     "metadata": {},
     "output_type": "execute_result"
    }
   ],
   "source": [
    "semiconductor.Uf(T) = -4.6 * semiconductor.k * T;\n",
    "Conduction.overallEin(semiconductor, Conduction.RnnVRH, T, 15) * semiconductor.k * T / semiconductor.q"
   ]
  }
 ],
 "metadata": {
  "kernelspec": {
   "display_name": "Julia 1.5.3",
   "language": "julia",
   "name": "julia-1.5"
  },
  "language_info": {
   "file_extension": ".jl",
   "mimetype": "application/julia",
   "name": "julia",
   "version": "1.5.3"
  }
 },
 "nbformat": 4,
 "nbformat_minor": 5
}