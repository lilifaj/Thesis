{
 "cells": [
  {
   "cell_type": "code",
   "execution_count": null,
   "metadata": {},
   "outputs": [],
   "source": [
    "using Distributed\n",
    "addprocs(2);\n",
    "println(workers())\n",
    "\n",
    "@everywhere begin\n",
    "    include(\"data.jl\");\n",
    "end"
   ]
  },
  {
   "cell_type": "code",
   "execution_count": 2,
   "metadata": {},
   "outputs": [
    {
     "data": {
      "text/plain": "BenchmarkTools.Trial: \n  memory estimate:  387.78 KiB\n  allocs estimate:  12400\n  --------------\n  minimum time:     286.301 s (0.00% GC)\n  median time:      313.410 s (0.00% GC)\n  mean time:        332.671 s (0.00% GC)\n  maximum time:     417.564 s (0.00% GC)\n  --------------\n  samples:          4\n  evals/sample:     1"
     },
     "execution_count": 2,
     "metadata": {},
     "output_type": "execute_result"
    }
   ],
   "source": [
    "@benchmark to_benchmark() evals=1 samples=5 seconds=1000"
   ]
  },
  {
   "cell_type": "code",
   "execution_count": 3,
   "metadata": {},
   "outputs": [
    {
     "name": "stdout",
     "output_type": "stream",
     "text": [
      "[2, 3, 4, 5]\n",
      "      From worker 4:\t Activating environment at `~/Workspace/Thesis/Conduction/Project.toml`\n"
     ]
    },
    {
     "name": "stderr",
     "output_type": "stream",
     "text": [
      "\u001b[32m\u001b[1m Activating\u001b[22m\u001b[39m environment at `~/Workspace/Thesis/Conduction/Project.toml`\n"
     ]
    },
    {
     "name": "stdout",
     "output_type": "stream",
     "text": [
      "      From worker 5:\t Activating environment at `~/Workspace/Thesis/Conduction/Project.toml`\n",
      "      From worker 2:\t Activating environment at `~/Workspace/Thesis/Conduction/Project.toml`\n",
      "      From worker 3:\t Activating environment at `~/Workspace/Thesis/Conduction/Project.toml`\n"
     ]
    },
    {
     "name": "stderr",
     "output_type": "stream",
     "text": [
      "WARNING: replacing module Conduction.\n"
     ]
    },
    {
     "name": "stdout",
     "output_type": "stream",
     "text": [
      "      From worker 2:\tWARNING: replacing module Conduction.\n",
      "      From worker 3:\tWARNING: replacing module Conduction.\n"
     ]
    }
   ],
   "source": [
    "addprocs(2);\n",
    "println(workers())\n",
    "\n",
    "@everywhere begin\n",
    "    include(\"../benchmark/data.jl\");\n",
    "end"
   ]
  },
  {
   "cell_type": "code",
   "execution_count": 4,
   "metadata": {},
   "outputs": [],
   "source": [
    "@benchmark to_benchmark() evals=1 samples=5 seconds=1000"
   ]
  }
 ],
 "metadata": {
  "kernelspec": {
   "display_name": "Julia 1.5.3",
   "language": "julia",
   "name": "julia-1.5"
  },
  "language_info": {
   "file_extension": ".jl",
   "mimetype": "application/julia",
   "name": "julia",
   "version": "1.5.3"
  },
  "orig_nbformat": 2
 },
 "nbformat": 4,
 "nbformat_minor": 2
}