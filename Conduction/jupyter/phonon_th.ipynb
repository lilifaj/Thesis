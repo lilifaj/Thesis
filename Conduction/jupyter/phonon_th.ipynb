{
 "cells": [
  {
   "cell_type": "code",
   "execution_count": 6,
   "metadata": {},
   "outputs": [
    {
     "name": "stderr",
     "output_type": "stream",
     "text": [
      "WARNING: replacing module Conduction.\n"
     ]
    }
   ],
   "source": [
    "include(\"../src/Conduction.jl\");\n",
    "using Plots, LaTeXStrings;"
   ]
  },
  {
   "cell_type": "code",
   "execution_count": 7,
   "metadata": {
    "jupyter": {
     "source_hidden": true
    },
    "tags": []
   },
   "outputs": [],
   "source": [
    "semiconductor = Conduction.Semiconductor(\n",
    "1.38 * 10^-23, # Boltzman constant (J.K^-1)\n",
    "1.6*10^-19, # Electron's charge (C)\n",
    "10^7, # decay constant of the assumed hydrogen-like localized state wave functions (cm^-1)\n",
    "0.1 * 1.6*10^-19, # Mode effect of the phonons (J)\n",
    "2.1 * 10^18, # intrinsic semiconductor's density (cm^-3)\n",
    "0, # Doping states' density (cm^-3)\n",
    "0.1 * 1.6 * 10^-19, # Energy to a vacant target site (J)\n",
    "-2*10^3, # Field (V.cm^-1)\n",
    "10^13, # Base electron jump rate\n",
    "-10.0, # Fermi level (J)\n",
    "2.7, # Intrinsic semiconductor's gaussian width (J)\n",
    "2.7, # Doping states' gaussian width (J)\n",
    "2.7, # Amount of disorder\n",
    "1.51 * 10^14 # Phonon minimal frequency\n",
    ");\n",
    "\n",
    "T = 300;"
   ]
  },
  {
   "cell_type": "code",
   "execution_count": 8,
   "metadata": {},
   "outputs": [
    {
     "ename": "LoadError",
     "evalue": "\u001b[91mDomainError with 0.5:\u001b[39m\n\u001b[91mintegrand produced NaN in the interval (0.0, 1.0)\u001b[39m",
     "output_type": "error",
     "traceback": [
      "\u001b[91mDomainError with 0.5:\u001b[39m\n\u001b[91mintegrand produced NaN in the interval (0.0, 1.0)\u001b[39m",
      "",
      "Stacktrace:",
      " [1] evalrule(::QuadGK.var\"#14#23\"{Main.Conduction.var\"#48#49\"{Main.Conduction.Semiconductor,Int64},Float64}, ::Float64, ::Float64, ::Array{Float64,1}, ::Array{Float64,1}, ::Array{Float64,1}, ::typeof(LinearAlgebra.norm)) at /home/lilifaj/.julia/packages/QuadGK/czbUH/src/evalrule.jl:41",
      " [2] #2 at /home/lilifaj/.julia/packages/QuadGK/czbUH/src/adapt.jl:10 [inlined]",
      " [3] ntuple at ./ntuple.jl:41 [inlined]",
      " [4] do_quadgk(::QuadGK.var\"#14#23\"{Main.Conduction.var\"#48#49\"{Main.Conduction.Semiconductor,Int64},Float64}, ::Tuple{Float64,Float64}, ::Int64, ::Nothing, ::Nothing, ::Int64, ::typeof(LinearAlgebra.norm)) at /home/lilifaj/.julia/packages/QuadGK/czbUH/src/adapt.jl:10",
      " [5] #28 at /home/lilifaj/.julia/packages/QuadGK/czbUH/src/adapt.jl:179 [inlined]",
      " [6] handle_infinities at /home/lilifaj/.julia/packages/QuadGK/czbUH/src/adapt.jl:105 [inlined]",
      " [7] #quadgk#27 at /home/lilifaj/.julia/packages/QuadGK/czbUH/src/adapt.jl:177 [inlined]",
      " [8] quadgk at /home/lilifaj/.julia/packages/QuadGK/czbUH/src/adapt.jl:177 [inlined]",
      " [9] kp(::Main.Conduction.Semiconductor, ::Int64) at /home/lilifaj/Workspace/Thesis/Conduction/src/Conduction.jl:149",
      " [10] top-level scope at In[8]:1",
      " [11] include_string(::Function, ::Module, ::String, ::String) at ./loading.jl:1091"
     ]
    }
   ],
   "source": [
    "Conduction.kp(semiconductor, T)"
   ]
  }
 ],
 "metadata": {
  "kernelspec": {
   "display_name": "Julia 1.5.3",
   "language": "julia",
   "name": "julia-1.5"
  },
  "language_info": {
   "file_extension": ".jl",
   "mimetype": "application/julia",
   "name": "julia",
   "version": "1.5.3"
  }
 },
 "nbformat": 4,
 "nbformat_minor": 4
}