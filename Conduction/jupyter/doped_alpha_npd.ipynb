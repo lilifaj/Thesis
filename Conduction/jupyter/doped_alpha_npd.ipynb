{
 "cells": [
  {
   "cell_type": "code",
   "execution_count": 7,
   "metadata": {},
   "outputs": [
    {
     "name": "stderr",
     "output_type": "stream",
     "text": [
      "WARNING: replacing module Conduction.\n"
     ]
    }
   ],
   "source": [
    "include(\"../src/Conduction.jl\");\n",
    "using Plots, LaTeXStrings, QuadGK;\n",
    "\n",
    "semiconductor = Conduction.Semiconductor(\n",
    "4.34e7, # decay constant of the assumed hydrogen-like localized state wave functions (cm^-1)\n",
    "0.1 * 1.6e-19, # Mode effect of the phonons (J)\n",
    "1e36, # intrinsic semiconductor's density (cm^-3)\n",
    "0, # Doping states' density (cm^-3)\n",
    "0.1 * 1.6e-19, # Energy to a vacant target site (J)\n",
    "-5.3e1, # Field (V.cm^-1)\n",
    "1e13, # Base electron jump rate\n",
    "-48, # Fermi level (J)\n",
    "3.87, # Intrinsic semiconductor's gaussian width (J)\n",
    "2.7, # Doping states' gaussian width (J)\n",
    "2.7, # Amount of disorder\n",
    "150e-7\n",
    ");\n",
    "\n",
    "T = 300;"
   ]
  },
  {
   "cell_type": "code",
   "execution_count": 8,
   "metadata": {},
   "outputs": [
    {
     "data": {
      "text/plain": [
       "2.5471667776391716e18"
      ]
     },
     "execution_count": 8,
     "metadata": {},
     "output_type": "execute_result"
    }
   ],
   "source": [
    "p() = quadgk(\n",
    "    r -> Conduction.DOS(semiconductor, r, T) * Conduction.F(semiconductor, r, T) * Conduction.k * T,\n",
    "    -Inf,\n",
    "    Inf\n",
    ")[1];\n",
    "\n",
    "p()"
   ]
  },
  {
   "cell_type": "code",
   "execution_count": 9,
   "metadata": {},
   "outputs": [
    {
     "ename": "LoadError",
     "evalue": "MethodError: no method matching overallEin(::Main.Conduction.Semiconductor, ::typeof(Main.Conduction.RnnVRH), ::Int64)\n\u001b[0mClosest candidates are:\n\u001b[0m  overallEin(::Main.Conduction.Semiconductor, ::Function, ::Any, \u001b[91m::Real\u001b[39m) at /home/lilifaj/Workspace/Thesis/Conduction/src/Conduction.jl:208",
     "output_type": "error",
     "traceback": [
      "MethodError: no method matching overallEin(::Main.Conduction.Semiconductor, ::typeof(Main.Conduction.RnnVRH), ::Int64)\n\u001b[0mClosest candidates are:\n\u001b[0m  overallEin(::Main.Conduction.Semiconductor, ::Function, ::Any, \u001b[91m::Real\u001b[39m) at /home/lilifaj/Workspace/Thesis/Conduction/src/Conduction.jl:208",
      "",
      "Stacktrace:",
      " [1] top-level scope",
      "   @ In[9]:1",
      " [2] eval",
      "   @ ./boot.jl:360 [inlined]",
      " [3] include_string(mapexpr::typeof(REPL.softscope), mod::Module, code::String, filename::String)",
      "   @ Base ./loading.jl:1094"
     ]
    }
   ],
   "source": [
    "Conduction.overallEin(semiconductor, Conduction.RnnVRH, 20)"
   ]
  }
 ],
 "metadata": {
  "interpreter": {
   "hash": "31f2aee4e71d21fbe5cf8b01ff0e069b9275f58929596ceb00d14d90e3e16cd6"
  },
  "kernelspec": {
   "display_name": "Julia 1.6.1",
   "language": "julia",
   "name": "julia-1.6"
  },
  "language_info": {
   "file_extension": ".jl",
   "mimetype": "application/julia",
   "name": "julia",
   "version": "1.6.1"
  }
 },
 "nbformat": 4,
 "nbformat_minor": 4
}