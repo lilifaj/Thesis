{
 "cells": [
  {
   "cell_type": "code",
   "execution_count": 1,
   "source": [
    "include(\"../src/Conduction.jl\");\n",
    "using Plots, LaTeXStrings, QuadGK, Roots;\n",
    "\n",
    "semiconductor = Conduction.Semiconductor(\n",
    "4.34e7, # decay constant of the assumed hydrogen-like localized state wave functions (cm^-1)\n",
    "0.1 * 1.6e-19, # Mode effect of the phonons (J)\n",
    "1e25, # intrinsic semiconductor's density (cm^-3)\n",
    "0, # Doping states' density (cm^-3)\n",
    "0.1 * 1.6e-19, # Energy to a vacant target site (J)\n",
    "-5.3e1, # Field (V.cm^-1)\n",
    "1e13, # Base electron jump rate\n",
    "-24, # Fermi level (J)\n",
    "3.87, # Intrinsic semiconductor's gaussian width (J)\n",
    "2.7, # Doping states' gaussian width (J)\n",
    "2.7, # Amount of disorder\n",
    "150e-7\n",
    ");\n",
    "\n",
    "T = 300;"
   ],
   "outputs": [],
   "metadata": {}
  },
  {
   "cell_type": "code",
   "execution_count": 2,
   "source": [
    "p() = quadgk(\n",
    "    r -> Conduction.DOS(semiconductor, r, T) * Conduction.F(semiconductor, r, T) * Conduction.k * T,\n",
    "    -Inf,\n",
    "    Inf\n",
    ")[1];\n",
    "\n",
    "function quantityCarrier(x)\n",
    "    semiconductor.Ni = x;\n",
    "    return p()\n",
    "end\n",
    "\n",
    "function find_multiple_zeros(x)\n",
    "    res = (r -> find_zero(x -> quantityCarrier(x) - r, 1e20)).(range)\n",
    "    return res\n",
    "end\n",
    "\n",
    "range = [4e17, 3e17, 2e17, 1e17, 8e16, 5e16, 2e16, 1e16];\n",
    "\n",
    "array_Ni = find_multiple_zeros(range)"
   ],
   "outputs": [],
   "metadata": {}
  },
  {
   "cell_type": "code",
   "execution_count": null,
   "source": [
    "res = [];\n",
    "\n",
    "for i in array_Ni\n",
    "    semiconductor.Ni = i;\n",
    "    r = Conduction.overallEin(semiconductor, Conduction.RnnVRH, T,  20) / (Conduction.k * T / Conduction.q);\n",
    "    append!(res, r);\n",
    "end"
   ],
   "outputs": [],
   "metadata": {}
  },
  {
   "cell_type": "code",
   "execution_count": 7,
   "source": [
    "plot(reverse(range), reverse(res))"
   ],
   "outputs": [
    {
     "output_type": "execute_result",
     "data": {
      "text/plain": [
       "3-element Vector{Float64}:\n",
       " 4.0e17\n",
       " 3.0e17\n",
       " 2.0e17"
      ]
     },
     "metadata": {},
     "execution_count": 7
    }
   ],
   "metadata": {}
  }
 ],
 "metadata": {
  "interpreter": {
   "hash": "31f2aee4e71d21fbe5cf8b01ff0e069b9275f58929596ceb00d14d90e3e16cd6"
  },
  "kernelspec": {
   "display_name": "Julia 1.6.1",
   "language": "julia",
   "name": "julia-1.6"
  },
  "language_info": {
   "file_extension": ".jl",
   "mimetype": "application/julia",
   "name": "julia",
   "version": "1.6.1"
  }
 },
 "nbformat": 4,
 "nbformat_minor": 4
}